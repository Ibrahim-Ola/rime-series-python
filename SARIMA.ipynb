{
 "cells": [
  {
   "cell_type": "code",
   "execution_count": 1,
   "metadata": {},
   "outputs": [],
   "source": [
    "import os\n",
    "import random\n",
    "import warnings\n",
    "import numpy as np\n",
    "import pandas as pd\n",
    "from tqdm.notebook import tqdm\n",
    "from itertools import product\n",
    "from typing import List, Union, Any\n",
    "from matplotlib import pyplot as plt\n",
    "from pmdarima.arima import auto_arima\n",
    "from pmdarima.arima.utils import ndiffs\n",
    "\n",
    "\n",
    "\n",
    "from statsmodels.tsa.stattools import adfuller, kpss\n",
    "from statsmodels.tsa.statespace.sarimax import SARIMAX\n",
    "from statsmodels.graphics.tsaplots import plot_acf, plot_pacf\n",
    "from statsmodels.tools.sm_exceptions import InterpolationWarning,ConvergenceWarning\n",
    "\n",
    "\n",
    "from sklearn import set_config\n",
    "from sklearn.metrics import root_mean_squared_error as rmse\n",
    "\n",
    "\n",
    "set_config(\n",
    "    display='diagram',\n",
    "    transform_output=\"pandas\"\n",
    ")\n",
    "\n",
    "warnings.simplefilter('ignore', InterpolationWarning)\n",
    "warnings.simplefilter('ignore', ConvergenceWarning)"
   ]
  },
  {
   "cell_type": "code",
   "execution_count": 2,
   "metadata": {},
   "outputs": [
    {
     "name": "stdout",
     "output_type": "stream",
     "text": [
      "(24210, 9) (3459, 9) (6918, 9)\n"
     ]
    }
   ],
   "source": [
    "# load data\n",
    "train_df = pd.read_parquet('./data/train.parquet')\n",
    "train_df.index = pd.DatetimeIndex(train_df.index).to_period('h')\n",
    "\n",
    "test_df = pd.read_parquet('./data/test.parquet')\n",
    "test_df.index = pd.DatetimeIndex(test_df.index).to_period('h')\n",
    "\n",
    "val_df = pd.read_parquet('./data/val.parquet')\n",
    "val_df.index = pd.DatetimeIndex(val_df.index).to_period('h')\n",
    "\n",
    "print(train_df.shape, val_df.shape, test_df.shape)"
   ]
  },
  {
   "cell_type": "markdown",
   "metadata": {},
   "source": [
    "## General approach for working with a time series is to:\n",
    "\n",
    "1. Plotting the series; notice trends and seasonality (we have done this in `data_preparation.ipynb`).\n",
    "2. Detrend the time series by removing the seasonality and drift.\n",
    "3. Fit a baseline model and calculate the residual.\n",
    "4. Diagnose the residual."
   ]
  },
  {
   "cell_type": "markdown",
   "metadata": {},
   "source": [
    "## SARIMAX\n",
    "\n",
    "SARIMAX (Seasonal AutoRegressive Integrated Moving Average with eXogenous variables) is an advanced statistical model used for forecasting time series data that incorporates both seasonal and non-seasonal components, as well as external or exogenous variables that could influence the time series. It extends the ARIMA model by adding seasonality (SARIMA) and the ability to model the impact of independent external variables, making it highly versatile and powerful for handling complex forecasting scenarios. SARIMAX can be decomposed into:\n",
    "\n",
    "* S: Seasonal\n",
    "\n",
    "* AR: Autoregressive (p)\n",
    "\n",
    "* I: Integrated (d)\n",
    "\n",
    "* MA: Moving Average (q)\n",
    "\n",
    "* X: Exogeneous variables\n",
    "\n",
    "### Stationarity test\n",
    "\n",
    "Stationarity means that the statistical properties of a time series i.e. mean, variance and covariance do not change over time. Many statistical models require the series to be stationary to make effective and precise predictions. The target variable must be stationary in this case. There are two tests commonly used in practice:\n",
    "\n",
    "1. Augmented Dickey Fuller (“ADF”) test.\n",
    "2. Kwiatkowski-Phillips-Schmidt-Shin (“KPSS”) test.\n",
    "\n",
    "### ADF Test\n",
    "\n",
    "ADF test is used to determine the presence of unit root in the series, and hence helps in understanding if the series is stationary or not. The null and alternate hypothesis of this test are:\n",
    "\n",
    "$H_0$: the series has a unit root\n",
    "\n",
    "$H_1$: the series has no unit root\n",
    "\n",
    "If we fail to reject the null hypothesis, this test may provide evidence that the series is non-stationary. \n",
    "\n",
    "\n",
    "### KPSS Test\n",
    "\n",
    "KPSS is another test for checking the stationarity of a time series. The null and alternate hypothesis for the KPSS test are opposite that of the ADF test.\n",
    "\n",
    "$H_0$: the process is trend stationary\n",
    "\n",
    "$H_1$: the series has a unit root (series is not stationary)\n",
    "\n",
    "\n",
    "### Verdict\n",
    "\n",
    "It is always better to apply both the tests, so that it can be ensured that the series is truly stationary. If the two tests contradict (they arrive at a different conclusion), we have two cases: \n",
    "\n",
    "* **Case I**: KPSS indicates non-stationarity and ADF indicates stationarity - The series is difference stationary. Differencing is to be used to make series stationary. The differenced series is checked for stationarity. \n",
    "\n",
    "* **Case II**: If ADF indicates non-stationarity and KPSS indicates stationarity, the series is trend stationary. The series must be detrended (via differencing or model fitting) to make it stationary."
   ]
  },
  {
   "cell_type": "markdown",
   "metadata": {},
   "source": [
    "* ADF test"
   ]
  },
  {
   "cell_type": "code",
   "execution_count": 3,
   "metadata": {},
   "outputs": [
    {
     "name": "stdout",
     "output_type": "stream",
     "text": [
      "ADF Statistic: -14.357816480395023\n",
      "p-value: 9.965088412100937e-27\n",
      "9.965088412100937e-27 < 0.05 ? True\n",
      "Stationary?  True\n"
     ]
    }
   ],
   "source": [
    "full_df=pd.concat([train_df, val_df, test_df])\n",
    "\n",
    "target=full_df.Global_active_power\n",
    "\n",
    "ad_fuller_result = adfuller(target)\n",
    "\n",
    "print(f'ADF Statistic: {ad_fuller_result[0]}')\n",
    "print(f'p-value: {ad_fuller_result[1]}')\n",
    "\n",
    "print(f\"{ad_fuller_result[1]} < 0.05 ? {ad_fuller_result[1] < 0.05}\")\n",
    "print(\"Stationary? \", ad_fuller_result[1] < 0.05)"
   ]
  },
  {
   "cell_type": "markdown",
   "metadata": {},
   "source": [
    "* kpss test"
   ]
  },
  {
   "cell_type": "code",
   "execution_count": 4,
   "metadata": {},
   "outputs": [
    {
     "name": "stdout",
     "output_type": "stream",
     "text": [
      "KPSS Statistic: 1.0486039049819735\n",
      "p-value: 0.01\n",
      "0.01 < 0.05 ? True\n",
      "Stationary?  False\n"
     ]
    }
   ],
   "source": [
    "kpss_result = kpss(target)\n",
    "\n",
    "print(f'KPSS Statistic: {kpss_result[0]}')\n",
    "print(f'p-value: {kpss_result[1]}')\n",
    "\n",
    "print(f\"{kpss_result[1]} < 0.05 ? {kpss_result[1] < 0.05}\")\n",
    "print(\"Stationary? \", kpss_result[1] > 0.05)"
   ]
  },
  {
   "cell_type": "markdown",
   "metadata": {},
   "source": [
    "Our tests arrive at different conclusions. In this case, ADF indicates stationarity and KPSS indicates non-stationarity. We need to difference to make our series stationary.\n",
    "\n",
    "* How many number of differences is required?"
   ]
  },
  {
   "cell_type": "code",
   "execution_count": 5,
   "metadata": {},
   "outputs": [
    {
     "name": "stdout",
     "output_type": "stream",
     "text": [
      "Number of differencing required: 1\n"
     ]
    }
   ],
   "source": [
    "n_kpss = ndiffs(target, test='kpss')\n",
    "print(f'Number of differencing required: {n_kpss}')"
   ]
  },
  {
   "cell_type": "code",
   "execution_count": 7,
   "metadata": {},
   "outputs": [],
   "source": [
    "full_train=pd.concat([train_df, val_df])"
   ]
  },
  {
   "cell_type": "code",
   "execution_count": 8,
   "metadata": {},
   "outputs": [],
   "source": [
    "train_exo, train_endo=full_train.drop(['Global_active_power', 'day_sin', 'day_cos'], axis=1), full_train[['Global_active_power']]"
   ]
  },
  {
   "cell_type": "code",
   "execution_count": 9,
   "metadata": {},
   "outputs": [
    {
     "name": "stdout",
     "output_type": "stream",
     "text": [
      "Performing stepwise search to minimize aic\n",
      " ARIMA(1,1,1)(1,0,1)[24] intercept   : AIC=80377.383, Time=152.97 sec\n",
      " ARIMA(0,1,0)(0,0,0)[24] intercept   : AIC=86124.408, Time=7.71 sec\n"
     ]
    }
   ],
   "source": [
    "model = auto_arima(train_endo, train_exo, start_p=1, start_q=1,\n",
    "    test='adf',\n",
    "    m=24,             \n",
    "    d=1,          \n",
    "    seasonal=True,   \n",
    "    D=0, \n",
    "    trace=True,\n",
    "    error_action='ignore',  \n",
    "    suppress_warnings=True, \n",
    "    stepwise=True,\n",
    "    n_jobs=-1\n",
    ")"
   ]
  },
  {
   "cell_type": "code",
   "execution_count": 6,
   "metadata": {},
   "outputs": [
    {
     "name": "stdout",
     "output_type": "stream",
     "text": [
      "\u001b[0;31mSignature:\u001b[0m\n",
      "\u001b[0mauto_arima\u001b[0m\u001b[0;34m(\u001b[0m\u001b[0;34m\u001b[0m\n",
      "\u001b[0;34m\u001b[0m    \u001b[0my\u001b[0m\u001b[0;34m,\u001b[0m\u001b[0;34m\u001b[0m\n",
      "\u001b[0;34m\u001b[0m    \u001b[0mX\u001b[0m\u001b[0;34m=\u001b[0m\u001b[0;32mNone\u001b[0m\u001b[0;34m,\u001b[0m\u001b[0;34m\u001b[0m\n",
      "\u001b[0;34m\u001b[0m    \u001b[0mstart_p\u001b[0m\u001b[0;34m=\u001b[0m\u001b[0;36m2\u001b[0m\u001b[0;34m,\u001b[0m\u001b[0;34m\u001b[0m\n",
      "\u001b[0;34m\u001b[0m    \u001b[0md\u001b[0m\u001b[0;34m=\u001b[0m\u001b[0;32mNone\u001b[0m\u001b[0;34m,\u001b[0m\u001b[0;34m\u001b[0m\n",
      "\u001b[0;34m\u001b[0m    \u001b[0mstart_q\u001b[0m\u001b[0;34m=\u001b[0m\u001b[0;36m2\u001b[0m\u001b[0;34m,\u001b[0m\u001b[0;34m\u001b[0m\n",
      "\u001b[0;34m\u001b[0m    \u001b[0mmax_p\u001b[0m\u001b[0;34m=\u001b[0m\u001b[0;36m5\u001b[0m\u001b[0;34m,\u001b[0m\u001b[0;34m\u001b[0m\n",
      "\u001b[0;34m\u001b[0m    \u001b[0mmax_d\u001b[0m\u001b[0;34m=\u001b[0m\u001b[0;36m2\u001b[0m\u001b[0;34m,\u001b[0m\u001b[0;34m\u001b[0m\n",
      "\u001b[0;34m\u001b[0m    \u001b[0mmax_q\u001b[0m\u001b[0;34m=\u001b[0m\u001b[0;36m5\u001b[0m\u001b[0;34m,\u001b[0m\u001b[0;34m\u001b[0m\n",
      "\u001b[0;34m\u001b[0m    \u001b[0mstart_P\u001b[0m\u001b[0;34m=\u001b[0m\u001b[0;36m1\u001b[0m\u001b[0;34m,\u001b[0m\u001b[0;34m\u001b[0m\n",
      "\u001b[0;34m\u001b[0m    \u001b[0mD\u001b[0m\u001b[0;34m=\u001b[0m\u001b[0;32mNone\u001b[0m\u001b[0;34m,\u001b[0m\u001b[0;34m\u001b[0m\n",
      "\u001b[0;34m\u001b[0m    \u001b[0mstart_Q\u001b[0m\u001b[0;34m=\u001b[0m\u001b[0;36m1\u001b[0m\u001b[0;34m,\u001b[0m\u001b[0;34m\u001b[0m\n",
      "\u001b[0;34m\u001b[0m    \u001b[0mmax_P\u001b[0m\u001b[0;34m=\u001b[0m\u001b[0;36m2\u001b[0m\u001b[0;34m,\u001b[0m\u001b[0;34m\u001b[0m\n",
      "\u001b[0;34m\u001b[0m    \u001b[0mmax_D\u001b[0m\u001b[0;34m=\u001b[0m\u001b[0;36m1\u001b[0m\u001b[0;34m,\u001b[0m\u001b[0;34m\u001b[0m\n",
      "\u001b[0;34m\u001b[0m    \u001b[0mmax_Q\u001b[0m\u001b[0;34m=\u001b[0m\u001b[0;36m2\u001b[0m\u001b[0;34m,\u001b[0m\u001b[0;34m\u001b[0m\n",
      "\u001b[0;34m\u001b[0m    \u001b[0mmax_order\u001b[0m\u001b[0;34m=\u001b[0m\u001b[0;36m5\u001b[0m\u001b[0;34m,\u001b[0m\u001b[0;34m\u001b[0m\n",
      "\u001b[0;34m\u001b[0m    \u001b[0mm\u001b[0m\u001b[0;34m=\u001b[0m\u001b[0;36m1\u001b[0m\u001b[0;34m,\u001b[0m\u001b[0;34m\u001b[0m\n",
      "\u001b[0;34m\u001b[0m    \u001b[0mseasonal\u001b[0m\u001b[0;34m=\u001b[0m\u001b[0;32mTrue\u001b[0m\u001b[0;34m,\u001b[0m\u001b[0;34m\u001b[0m\n",
      "\u001b[0;34m\u001b[0m    \u001b[0mstationary\u001b[0m\u001b[0;34m=\u001b[0m\u001b[0;32mFalse\u001b[0m\u001b[0;34m,\u001b[0m\u001b[0;34m\u001b[0m\n",
      "\u001b[0;34m\u001b[0m    \u001b[0minformation_criterion\u001b[0m\u001b[0;34m=\u001b[0m\u001b[0;34m'aic'\u001b[0m\u001b[0;34m,\u001b[0m\u001b[0;34m\u001b[0m\n",
      "\u001b[0;34m\u001b[0m    \u001b[0malpha\u001b[0m\u001b[0;34m=\u001b[0m\u001b[0;36m0.05\u001b[0m\u001b[0;34m,\u001b[0m\u001b[0;34m\u001b[0m\n",
      "\u001b[0;34m\u001b[0m    \u001b[0mtest\u001b[0m\u001b[0;34m=\u001b[0m\u001b[0;34m'kpss'\u001b[0m\u001b[0;34m,\u001b[0m\u001b[0;34m\u001b[0m\n",
      "\u001b[0;34m\u001b[0m    \u001b[0mseasonal_test\u001b[0m\u001b[0;34m=\u001b[0m\u001b[0;34m'ocsb'\u001b[0m\u001b[0;34m,\u001b[0m\u001b[0;34m\u001b[0m\n",
      "\u001b[0;34m\u001b[0m    \u001b[0mstepwise\u001b[0m\u001b[0;34m=\u001b[0m\u001b[0;32mTrue\u001b[0m\u001b[0;34m,\u001b[0m\u001b[0;34m\u001b[0m\n",
      "\u001b[0;34m\u001b[0m    \u001b[0mn_jobs\u001b[0m\u001b[0;34m=\u001b[0m\u001b[0;36m1\u001b[0m\u001b[0;34m,\u001b[0m\u001b[0;34m\u001b[0m\n",
      "\u001b[0;34m\u001b[0m    \u001b[0mstart_params\u001b[0m\u001b[0;34m=\u001b[0m\u001b[0;32mNone\u001b[0m\u001b[0;34m,\u001b[0m\u001b[0;34m\u001b[0m\n",
      "\u001b[0;34m\u001b[0m    \u001b[0mtrend\u001b[0m\u001b[0;34m=\u001b[0m\u001b[0;32mNone\u001b[0m\u001b[0;34m,\u001b[0m\u001b[0;34m\u001b[0m\n",
      "\u001b[0;34m\u001b[0m    \u001b[0mmethod\u001b[0m\u001b[0;34m=\u001b[0m\u001b[0;34m'lbfgs'\u001b[0m\u001b[0;34m,\u001b[0m\u001b[0;34m\u001b[0m\n",
      "\u001b[0;34m\u001b[0m    \u001b[0mmaxiter\u001b[0m\u001b[0;34m=\u001b[0m\u001b[0;36m50\u001b[0m\u001b[0;34m,\u001b[0m\u001b[0;34m\u001b[0m\n",
      "\u001b[0;34m\u001b[0m    \u001b[0moffset_test_args\u001b[0m\u001b[0;34m=\u001b[0m\u001b[0;32mNone\u001b[0m\u001b[0;34m,\u001b[0m\u001b[0;34m\u001b[0m\n",
      "\u001b[0;34m\u001b[0m    \u001b[0mseasonal_test_args\u001b[0m\u001b[0;34m=\u001b[0m\u001b[0;32mNone\u001b[0m\u001b[0;34m,\u001b[0m\u001b[0;34m\u001b[0m\n",
      "\u001b[0;34m\u001b[0m    \u001b[0msuppress_warnings\u001b[0m\u001b[0;34m=\u001b[0m\u001b[0;32mTrue\u001b[0m\u001b[0;34m,\u001b[0m\u001b[0;34m\u001b[0m\n",
      "\u001b[0;34m\u001b[0m    \u001b[0merror_action\u001b[0m\u001b[0;34m=\u001b[0m\u001b[0;34m'trace'\u001b[0m\u001b[0;34m,\u001b[0m\u001b[0;34m\u001b[0m\n",
      "\u001b[0;34m\u001b[0m    \u001b[0mtrace\u001b[0m\u001b[0;34m=\u001b[0m\u001b[0;32mFalse\u001b[0m\u001b[0;34m,\u001b[0m\u001b[0;34m\u001b[0m\n",
      "\u001b[0;34m\u001b[0m    \u001b[0mrandom\u001b[0m\u001b[0;34m=\u001b[0m\u001b[0;32mFalse\u001b[0m\u001b[0;34m,\u001b[0m\u001b[0;34m\u001b[0m\n",
      "\u001b[0;34m\u001b[0m    \u001b[0mrandom_state\u001b[0m\u001b[0;34m=\u001b[0m\u001b[0;32mNone\u001b[0m\u001b[0;34m,\u001b[0m\u001b[0;34m\u001b[0m\n",
      "\u001b[0;34m\u001b[0m    \u001b[0mn_fits\u001b[0m\u001b[0;34m=\u001b[0m\u001b[0;36m10\u001b[0m\u001b[0;34m,\u001b[0m\u001b[0;34m\u001b[0m\n",
      "\u001b[0;34m\u001b[0m    \u001b[0mreturn_valid_fits\u001b[0m\u001b[0;34m=\u001b[0m\u001b[0;32mFalse\u001b[0m\u001b[0;34m,\u001b[0m\u001b[0;34m\u001b[0m\n",
      "\u001b[0;34m\u001b[0m    \u001b[0mout_of_sample_size\u001b[0m\u001b[0;34m=\u001b[0m\u001b[0;36m0\u001b[0m\u001b[0;34m,\u001b[0m\u001b[0;34m\u001b[0m\n",
      "\u001b[0;34m\u001b[0m    \u001b[0mscoring\u001b[0m\u001b[0;34m=\u001b[0m\u001b[0;34m'mse'\u001b[0m\u001b[0;34m,\u001b[0m\u001b[0;34m\u001b[0m\n",
      "\u001b[0;34m\u001b[0m    \u001b[0mscoring_args\u001b[0m\u001b[0;34m=\u001b[0m\u001b[0;32mNone\u001b[0m\u001b[0;34m,\u001b[0m\u001b[0;34m\u001b[0m\n",
      "\u001b[0;34m\u001b[0m    \u001b[0mwith_intercept\u001b[0m\u001b[0;34m=\u001b[0m\u001b[0;34m'auto'\u001b[0m\u001b[0;34m,\u001b[0m\u001b[0;34m\u001b[0m\n",
      "\u001b[0;34m\u001b[0m    \u001b[0msarimax_kwargs\u001b[0m\u001b[0;34m=\u001b[0m\u001b[0;32mNone\u001b[0m\u001b[0;34m,\u001b[0m\u001b[0;34m\u001b[0m\n",
      "\u001b[0;34m\u001b[0m    \u001b[0;34m**\u001b[0m\u001b[0mfit_args\u001b[0m\u001b[0;34m,\u001b[0m\u001b[0;34m\u001b[0m\n",
      "\u001b[0;34m\u001b[0m\u001b[0;34m)\u001b[0m\u001b[0;34m\u001b[0m\u001b[0;34m\u001b[0m\u001b[0m\n",
      "\u001b[0;31mDocstring:\u001b[0m\n",
      "Automatically discover the optimal order for an ARIMA model.\n",
      "\n",
      "The auto-ARIMA process seeks to identify the most optimal\n",
      "parameters for an ``ARIMA`` model, settling on a single fitted ARIMA model.\n",
      "This process is based on the commonly-used R function,\n",
      "``forecast::auto.arima`` [3].\n",
      "\n",
      "Auto-ARIMA works by conducting differencing tests (i.e.,\n",
      "Kwiatkowski–Phillips–Schmidt–Shin, Augmented Dickey-Fuller or\n",
      "Phillips–Perron) to determine the order of differencing, ``d``, and then\n",
      "fitting models within ranges of defined ``start_p``, ``max_p``,\n",
      "``start_q``, ``max_q`` ranges. If the ``seasonal`` optional is enabled,\n",
      "auto-ARIMA also seeks to identify the optimal ``P`` and ``Q`` hyper-\n",
      "parameters after conducting the Canova-Hansen to determine the optimal\n",
      "order of seasonal differencing, ``D``.\n",
      "\n",
      "In order to find the best model, auto-ARIMA optimizes for a given\n",
      "``information_criterion``, one of ('aic', 'aicc', 'bic', 'hqic', 'oob')\n",
      "(Akaike Information Criterion, Corrected Akaike Information Criterion,\n",
      "Bayesian Information Criterion, Hannan-Quinn Information Criterion, or\n",
      "\"out of bag\"--for validation scoring--respectively) and returns the ARIMA\n",
      "which minimizes the value.\n",
      "\n",
      "Note that due to stationarity issues, auto-ARIMA might not find a\n",
      "suitable model that will converge. If this is the case, a ``ValueError``\n",
      "will be thrown suggesting stationarity-inducing measures be taken prior\n",
      "to re-fitting or that a new range of ``order`` values be selected. Non-\n",
      "stepwise (i.e., essentially a grid search) selection can be slow,\n",
      "especially for seasonal data. Stepwise algorithm is outlined in Hyndman and\n",
      "Khandakar (2008).\n",
      "\n",
      "Parameters\n",
      "----------\n",
      "y : array-like or iterable, shape=(n_samples,)\n",
      "    The time-series to which to fit the ``ARIMA`` estimator. This may\n",
      "    either be a Pandas ``Series`` object (statsmodels can internally\n",
      "    use the dates in the index), or a numpy array. This should be a\n",
      "    one-dimensional array of floats, and should not contain any\n",
      "    ``np.nan`` or ``np.inf`` values.\n",
      "\n",
      "X : array-like, shape=[n_obs, n_vars], optional (default=None)\n",
      "    An optional 2-d array of exogenous variables. If provided, these\n",
      "    variables are used as additional features in the regression\n",
      "    operation. This should not include a constant or trend. Note that\n",
      "    if an ``ARIMA`` is fit on exogenous features, it must be provided\n",
      "    exogenous features for making predictions.\n",
      "\n",
      "start_p : int, optional (default=2)\n",
      "    The starting value of ``p``, the order (or number of time lags)\n",
      "    of the auto-regressive (\"AR\") model. Must be a positive integer.\n",
      "\n",
      "d : int, optional (default=None)\n",
      "    The order of first-differencing. If None (by default), the value\n",
      "    will automatically be selected based on the results of the ``test``\n",
      "    (i.e., either the Kwiatkowski–Phillips–Schmidt–Shin, Augmented\n",
      "    Dickey-Fuller or the Phillips–Perron test will be conducted to find\n",
      "    the most probable value). Must be a positive integer or None. Note\n",
      "    that if ``d`` is None, the runtime could be significantly longer.\n",
      "\n",
      "start_q : int, optional (default=2)\n",
      "    The starting value of ``q``, the order of the moving-average\n",
      "    (\"MA\") model. Must be a positive integer.\n",
      "\n",
      "max_p : int, optional (default=5)\n",
      "    The maximum value of ``p``, inclusive. Must be a positive integer\n",
      "    greater than or equal to ``start_p``.\n",
      "\n",
      "max_d : int, optional (default=2)\n",
      "    The maximum value of ``d``, or the maximum number of non-seasonal\n",
      "    differences. Must be a positive integer greater than or equal to ``d``.\n",
      "\n",
      "max_q : int, optional (default=5)\n",
      "    The maximum value of ``q``, inclusive. Must be a positive integer\n",
      "    greater than ``start_q``.\n",
      "\n",
      "start_P : int, optional (default=1)\n",
      "    The starting value of ``P``, the order of the auto-regressive portion\n",
      "    of the seasonal model.\n",
      "\n",
      "D : int, optional (default=None)\n",
      "    The order of the seasonal differencing. If None (by default, the value\n",
      "    will automatically be selected based on the results of the\n",
      "    ``seasonal_test``. Must be a positive integer or None.\n",
      "\n",
      "start_Q : int, optional (default=1)\n",
      "    The starting value of ``Q``, the order of the moving-average portion\n",
      "    of the seasonal model.\n",
      "\n",
      "max_P : int, optional (default=2)\n",
      "    The maximum value of ``P``, inclusive. Must be a positive integer\n",
      "    greater than ``start_P``.\n",
      "\n",
      "max_D : int, optional (default=1)\n",
      "    The maximum value of ``D``. Must be a positive integer greater\n",
      "    than ``D``.\n",
      "\n",
      "max_Q : int, optional (default=2)\n",
      "    The maximum value of ``Q``, inclusive. Must be a positive integer\n",
      "    greater than ``start_Q``.\n",
      "\n",
      "max_order : int, optional (default=5)\n",
      "    Maximum value of p+q+P+Q if model selection is not stepwise.\n",
      "    If the sum of ``p`` and ``q`` is >= ``max_order``, a model will\n",
      "    *not* be fit with those parameters, but will progress to the next\n",
      "    combination. Default is 5. If ``max_order`` is None, it means there\n",
      "    are no constraints on maximum order.\n",
      "\n",
      "m : int, optional (default=1)\n",
      "    The period for seasonal differencing, ``m`` refers to the number of\n",
      "    periods in each season. For example, ``m`` is 4 for quarterly data, 12\n",
      "    for monthly data, or 1 for annual (non-seasonal) data. Default is 1.\n",
      "    Note that if ``m`` == 1 (i.e., is non-seasonal), ``seasonal`` will be\n",
      "    set to False. For more information on setting this parameter, see\n",
      "    :ref:`period`.\n",
      "\n",
      "seasonal : bool, optional (default=True)\n",
      "    Whether to fit a seasonal ARIMA. Default is True. Note that if\n",
      "    ``seasonal`` is True and ``m`` == 1, ``seasonal`` will be set to False.\n",
      "\n",
      "stationary : bool, optional (default=False)\n",
      "    Whether the time-series is stationary and ``d`` should be set to zero.\n",
      "\n",
      "information_criterion : str, optional (default='aic')\n",
      "    The information criterion used to select the best ARIMA model. One of\n",
      "    ``pmdarima.arima.auto_arima.VALID_CRITERIA``, ('aic', 'bic', 'hqic',\n",
      "    'oob').\n",
      "\n",
      "alpha : float, optional (default=0.05)\n",
      "    Level of the test for testing significance.\n",
      "\n",
      "test : str, optional (default='kpss')\n",
      "    Type of unit root test to use in order to detect stationarity if\n",
      "    ``stationary`` is False and ``d`` is None. Default is 'kpss'\n",
      "    (Kwiatkowski–Phillips–Schmidt–Shin).\n",
      "\n",
      "seasonal_test : str, optional (default='ocsb')\n",
      "    This determines which seasonal unit root test is used if ``seasonal``\n",
      "    is True and ``D`` is None. Default is 'OCSB'.\n",
      "\n",
      "stepwise : bool, optional (default=True)\n",
      "    Whether to use the stepwise algorithm outlined in Hyndman and Khandakar\n",
      "    (2008) to identify the optimal model parameters. The stepwise algorithm\n",
      "    can be significantly faster than fitting all (or a ``random`` subset\n",
      "    of) hyper-parameter combinations and is less likely to over-fit\n",
      "    the model.\n",
      "\n",
      "n_jobs : int, optional (default=1)\n",
      "    The number of models to fit in parallel in the case of a grid search\n",
      "    (``stepwise=False``). Default is 1, but -1 can be used to designate\n",
      "    \"as many as possible\".\n",
      "\n",
      "start_params : array-like, optional (default=None)\n",
      "    Starting parameters for ``ARMA(p,q)``.  If None, the default is given\n",
      "    by ``ARMA._fit_start_params``.\n",
      "\n",
      "method : str, optional (default='lbfgs')\n",
      "    The ``method`` determines which solver from ``scipy.optimize``\n",
      "    is used, and it can be chosen from among the following strings:\n",
      "\n",
      "    - 'newton' for Newton-Raphson\n",
      "    - 'nm' for Nelder-Mead\n",
      "    - 'bfgs' for Broyden-Fletcher-Goldfarb-Shanno (BFGS)\n",
      "    - 'lbfgs' for limited-memory BFGS with optional box constraints\n",
      "    - 'powell' for modified Powell's method\n",
      "    - 'cg' for conjugate gradient\n",
      "    - 'ncg' for Newton-conjugate gradient\n",
      "    - 'basinhopping' for global basin-hopping solver\n",
      "\n",
      "    The explicit arguments in ``fit`` are passed to the solver,\n",
      "    with the exception of the basin-hopping solver. Each\n",
      "    solver has several optional arguments that are not the same across\n",
      "    solvers. These can be passed as **fit_kwargs\n",
      "\n",
      "trend : str or None, optional (default=None)\n",
      "    The trend parameter. If ``with_intercept`` is True, ``trend`` will be\n",
      "    used. If ``with_intercept`` is False, the trend will be set to a no-\n",
      "    intercept value.\n",
      "\n",
      "maxiter : int, optional (default=50)\n",
      "    The maximum number of function evaluations. Default is 50.\n",
      "\n",
      "offset_test_args : dict, optional (default=None)\n",
      "    The args to pass to the constructor of the offset (``d``) test. See\n",
      "    ``pmdarima.arima.stationarity`` for more details.\n",
      "\n",
      "seasonal_test_args : dict, optional (default=None)\n",
      "    The args to pass to the constructor of the seasonal offset (``D``)\n",
      "    test. See ``pmdarima.arima.seasonality`` for more details. Examples of\n",
      "    valid kwargs will vary based on the test. For the ``OCSBTest``\n",
      "    (default) they include:\n",
      "    \n",
      "    - 'lag_method'\n",
      "    - 'max_lag'\n",
      "\n",
      "suppress_warnings : bool, optional (default=True)\n",
      "    Many warnings might be thrown inside of statsmodels. If\n",
      "    ``suppress_warnings`` is True, all of the warnings coming from\n",
      "    ``ARIMA`` will be squelched. Note that this will not suppress\n",
      "    UserWarnings created by bad argument combinations.\n",
      "\n",
      "error_action : str, optional (default='warn')\n",
      "    If unable to fit an ``ARIMA`` for whatever reason, this controls the\n",
      "    error-handling behavior. Model fits can fail for linear algebra errors,\n",
      "    convergence errors, or any number of problems related to stationarity\n",
      "    or input data.\n",
      "        - 'warn': Warns when an error is encountered (default)\n",
      "        - 'raise': Raises when an error is encountered\n",
      "        - 'ignore': Ignores errors (not recommended)\n",
      "        - 'trace': Logs the entire error stacktrace and continues the\n",
      "           search. This is the best option when trying to determine why a\n",
      "           model is failing.\n",
      "\n",
      "trace : bool or int, optional (default=False)\n",
      "    Whether to print status on the fits. A value of False will print no\n",
      "    debugging information. A value of True will print some. Integer values\n",
      "    exceeding 1 will print increasing amounts of debug information at each\n",
      "    fit.\n",
      "\n",
      "random : bool, optional (default=False)\n",
      "    Similar to grid searches, ``auto_arima`` provides the capability to\n",
      "    perform a \"random search\" over a hyper-parameter space. If ``random``\n",
      "    is True, rather than perform an exhaustive search or ``stepwise``\n",
      "    search, only ``n_fits`` ARIMA models will be fit (``stepwise`` must be\n",
      "    False for this option to do anything).\n",
      "\n",
      "random_state : int, long or numpy ``RandomState``, optional (default=None)\n",
      "    The PRNG for when ``random=True``. Ensures replicable testing and\n",
      "    results.\n",
      "\n",
      "n_fits : int, optional (default=10)\n",
      "    If ``random`` is True and a \"random search\" is going to be performed,\n",
      "    ``n_fits`` is the number of ARIMA models to be fit.\n",
      "\n",
      "return_valid_fits : bool, optional (default=False)\n",
      "    If True, will return all valid ARIMA fits in a list. If False (by\n",
      "    default), will only return the best fit.\n",
      "\n",
      "out_of_sample_size : int, optional (default=0)\n",
      "    The ``ARIMA`` class can fit only a portion of the data if specified,\n",
      "    in order to retain an \"out of bag\" sample score. This is the\n",
      "    number of examples from the tail of the time series to hold out\n",
      "    and use as validation examples. The model will not be fit on these\n",
      "    samples, but the observations will be added into the model's ``endog``\n",
      "    and ``exog`` arrays so that future forecast values originate from the\n",
      "    end of the endogenous vector.\n",
      "\n",
      "    For instance::\n",
      "\n",
      "        y = [0, 1, 2, 3, 4, 5, 6]\n",
      "        out_of_sample_size = 2\n",
      "\n",
      "        > Fit on: [0, 1, 2, 3, 4]\n",
      "        > Score on: [5, 6]\n",
      "        > Append [5, 6] to end of self.arima_res_.data.endog values\n",
      "\n",
      "scoring : str, optional (default='mse')\n",
      "    If performing validation (i.e., if ``out_of_sample_size`` > 0), the\n",
      "    metric to use for scoring the out-of-sample data. One of ('mse', 'mae')\n",
      "\n",
      "scoring_args : dict, optional (default=None)\n",
      "    A dictionary of key-word arguments to be passed to the ``scoring``\n",
      "    metric.\n",
      "\n",
      "with_intercept : bool or str, optional (default=\"auto\")\n",
      "    Whether to include an intercept term. Default is \"auto\" which behaves\n",
      "    like True until a point in the search where the sum of differencing\n",
      "    terms will explicitly set it to True or False.\n",
      "\n",
      "\n",
      "sarimax_kwargs : dict or None, optional (default=None)\n",
      "    Keyword arguments to pass to the ARIMA constructor.\n",
      "\n",
      "\n",
      "**fit_args : dict, optional (default=None)\n",
      "    A dictionary of keyword arguments to pass to the :func:`ARIMA.fit`\n",
      "    method.\n",
      "\n",
      "See Also\n",
      "--------\n",
      ":func:`pmdarima.arima.ARIMA`\n",
      "\n",
      "Notes\n",
      "-----\n",
      "* Fitting with `stepwise=False` can prove slower, especially when\n",
      "  `seasonal=True`.\n",
      "\n",
      "References\n",
      "----------\n",
      ".. [1] https://wikipedia.org/wiki/Autoregressive_integrated_moving_average\n",
      ".. [2] R's auto-arima source code: https://github.com/robjhyndman/forecast/blob/master/R/arima.R\n",
      ".. [3] R's auto-arima documentation: https://www.rdocumentation.org/packages/forecast\n",
      "\u001b[0;31mFile:\u001b[0m      ~/Time Series/.venv/lib/python3.10/site-packages/pmdarima/arima/auto.py\n",
      "\u001b[0;31mType:\u001b[0m      function"
     ]
    }
   ],
   "source": [
    "auto_arima?"
   ]
  },
  {
   "cell_type": "markdown",
   "metadata": {},
   "source": [
    "We only need on differencing to make our series stationary. Hence, no seasonal differencing is required."
   ]
  },
  {
   "cell_type": "code",
   "execution_count": 6,
   "metadata": {},
   "outputs": [
    {
     "name": "stdout",
     "output_type": "stream",
     "text": [
      "ADF Statistic: -42.79654697678494\n",
      "p-value: 0.0\n",
      "0.0 < 0.05 ? True\n",
      "KPSS Statistic: 0.018235915292688545\n",
      "p-value: 0.1\n",
      "0.1 < 0.05 ? False\n"
     ]
    }
   ],
   "source": [
    "## apply 1st-order differencing\n",
    "target_diff = np.diff(target, n=1)\n",
    "\n",
    "# Test for stationarity\n",
    "\n",
    "# ADF Test\n",
    "\n",
    "ad_fuller_result = adfuller(target_diff)\n",
    "\n",
    "print(f'ADF Statistic: {ad_fuller_result[0]}')\n",
    "print(f'p-value: {ad_fuller_result[1]}')\n",
    "\n",
    "print(f\"{ad_fuller_result[1]} < 0.05 ? {ad_fuller_result[1] < 0.05}\")\n",
    "\n",
    "\n",
    "# KPSS Test\n",
    "\n",
    "kpss_result = kpss(target_diff)\n",
    "\n",
    "print(f'KPSS Statistic: {kpss_result[0]}')\n",
    "print(f'p-value: {kpss_result[1]}')\n",
    "\n",
    "print(f\"{kpss_result[1]} < 0.05 ? {kpss_result[1] < 0.05}\")"
   ]
  },
  {
   "cell_type": "markdown",
   "metadata": {},
   "source": [
    "Both tests now agree. Let's investigate the ACF and PACF plots for hints on the the appropriate lags."
   ]
  },
  {
   "cell_type": "markdown",
   "metadata": {},
   "source": [
    "## Plotting ACF and PACF functions\n"
   ]
  },
  {
   "cell_type": "code",
   "execution_count": 7,
   "metadata": {},
   "outputs": [
    {
     "data": {
      "image/png": "[encoded data removed]",
      "text/plain": [
       "<Figure size 1200x800 with 1 Axes>"
      ]
     },
     "metadata": {},
     "output_type": "display_data"
    }
   ],
   "source": [
    "fig, ax = plt.subplots(figsize=(12, 8))\n",
    "plot_acf(target_diff, lags=100, ax=ax)\n",
    "plt.show()"
   ]
  },
  {
   "cell_type": "markdown",
   "metadata": {},
   "source": [
    "Our ACF is sinusoidal. When we see a sinusoidal pattern in the ACF plot of a stationary process, this is a hint that an autoregressive process is at play, and we must use an AR(p) model to produce our forecast. However, we will have to plot the partial autocorrelation function and see at which lag the coefficients suddenly become non-significant. This lag will be our `p` in AR(p). We also see clear peaks at lags 24, 48, 72, etc, and lags 12, 24, 34, etc. This also confirms our seasonality claims. "
   ]
  },
  {
   "cell_type": "code",
   "execution_count": 8,
   "metadata": {},
   "outputs": [
    {
     "data": {
      "image/png": "[encoded data removed]",
      "text/plain": [
       "<Figure size 1200x800 with 1 Axes>"
      ]
     },
     "metadata": {},
     "output_type": "display_data"
    }
   ],
   "source": [
    "fig, ax = plt.subplots(figsize=(12, 8))\n",
    "plot_pacf(target_diff, lags=100, ax=ax)\n",
    "plt.show()"
   ]
  },
  {
   "cell_type": "markdown",
   "metadata": {},
   "source": [
    "The PACF plot is also sinusoidal. This indicates no order for the MA(q) or AR(p) process that can be inferred. We are probably in the presence of an SARMA process.\n",
    "\n",
    "We will list different possible values of p, Q, q and Q (positive integers). With a list of possible values, we can fit every unique combination of $SARIMA(p,d,q)(P,D,Q)_m$  to our data. Once that’s done, we can compute the Akaike Information Criterion (AIC), Root Mean Squared Error (RMSE), Coefficient of Determination ($R^2$), Mean Absolute Error (MAE), or other metrics. The model with the best metric is then selected. This is essentially hyperparameter optimization. Note that because we did not do a seasonal diffenece to make our series stationary, the D component of our SARIMA will be 0. In essense, our model is:\n",
    "\n",
    "$$SARIMA(p,d,q)(P,D,Q)_m = SARIMA(p,1,q)(P,0,Q)_{24}$$ \n",
    "\n",
    "I will randomly selected 15 combinations so that the model runs for a reasonable time.\n"
   ]
  },
  {
   "cell_type": "code",
   "execution_count": 9,
   "metadata": {},
   "outputs": [],
   "source": [
    "def sarimax_randomized_grid_search(\n",
    "        train_y: pd.Series,\n",
    "        train_X: pd.DataFrame,\n",
    "        valid_y: pd.Series,\n",
    "        valid_X: pd.DataFrame,\n",
    "        order_list: List[Any],\n",
    "        n_iter: int = 25\n",
    ") -> pd.DataFrame:\n",
    "    \"\"\"\n",
    "    Perform a grid search over ARIMAX hyperparameters on the provided training data.\n",
    "    \n",
    "    Parameters\n",
    "    ----------\n",
    "    train_y : pd.Series\n",
    "        The training data (response) for the ARIMAX model.\n",
    "    train_X : pd.DataFrame\n",
    "        The training data (predictors) for the ARIMAX model.\n",
    "    valid_y : pd.Series\n",
    "        The validation data (response) for the ARIMAX model.\n",
    "    valid_X : pd.DataFrame\n",
    "        The validation data (predictors) for the ARIMAX model.\n",
    "    order_list : List[Any]\n",
    "        The range of 'p', 'd', 'q', and seasonal parameters to search over.\n",
    "    n_iter : int\n",
    "        The number of parameter combinations to try.\n",
    "\n",
    "    Returns\n",
    "    -------\n",
    "    pd.DataFrame\n",
    "        A DataFrame containing 'p', 'd', 'q', and corresponding metrics (RMSE and AIC) for each combination of hyperparameters.\n",
    "    \"\"\"\n",
    "\n",
    "    random.seed(42)\n",
    "    sampled_order_list = random.sample(order_list, min(len(order_list), n_iter))\n",
    "\n",
    "    results = []\n",
    "\n",
    "    for order in tqdm(sampled_order_list):\n",
    "        try:\n",
    "            model = SARIMAX(\n",
    "                endog=train_y, \n",
    "                exog=train_X,\n",
    "                order=(order[0], 1, order[1]),\n",
    "                seasonal_order=(order[2], 0, order[3], 24),\n",
    "                enforce_stationarity=False,\n",
    "                enforce_invertibility=False,\n",
    "                simple_differencing=False\n",
    "            )\n",
    "            model_fit = model.fit(disp=False)\n",
    "            valid_pred = model_fit.predict(start=valid_y.index[0], end=valid_y.index[-1], exog=valid_X)\n",
    "\n",
    "            aic = model_fit.aic\n",
    "            rmse_value = rmse(valid_y, valid_pred)\n",
    "            results.append({\n",
    "                'order(p, 1, q)(P, 0, Q, 24)': order,\n",
    "                'AIC': aic,\n",
    "                'RMSE': rmse_value\n",
    "            })\n",
    "\n",
    "        except Exception as e:\n",
    "            print(f\"Error with order {order}: {e}\")\n",
    "            continue\n",
    "\n",
    "    results_df = pd.DataFrame(results)\n",
    "\n",
    "    return results_df\n"
   ]
  },
  {
   "cell_type": "code",
   "execution_count": 10,
   "metadata": {},
   "outputs": [
    {
     "data": {
      "application/vnd.jupyter.widget-view+json": {
       "model_id": "a1b51280baf34968b5290640f145a1b3",
       "version_major": 2,
       "version_minor": 0
      },
      "text/plain": [
       "  0%|          | 0/15 [00:00<?, ?it/s]"
      ]
     },
     "metadata": {},
     "output_type": "display_data"
    }
   ],
   "source": [
    "p = range(1, 5, 1)\n",
    "q = range(1, 5, 1)\n",
    "P = range(1, 5, 1)\n",
    "Q = range(1, 5, 1)\n",
    "\n",
    "parameters = product(p, q, P, Q)\n",
    "parameters_list = list(parameters)\n",
    "\n",
    "train_exo, train_endo=train_df.drop(['Global_active_power', 'day_sin', 'day_cos'], axis=1), train_df[['Global_active_power']]\n",
    "val_exo, val_endo=val_df.drop(['Global_active_power', 'day_sin', 'day_cos'], axis=1), val_df[['Global_active_power']]\n",
    "test_exo, test_endo=test_df.drop(['Global_active_power', 'day_sin', 'day_cos'], axis=1), test_df[['Global_active_power']]\n",
    "\n",
    "sarimax_results = sarimax_randomized_grid_search(\n",
    "    train_y=train_endo,\n",
    "    train_X=train_exo,\n",
    "    valid_y=val_endo,\n",
    "    valid_X=val_exo,\n",
    "    order_list=parameters_list,\n",
    "    n_iter=15\n",
    ")"
   ]
  },
  {
   "cell_type": "markdown",
   "metadata": {},
   "source": [
    "## Model Selection\n",
    "\n",
    "Let's select the best model using RMSE on the validation set."
   ]
  },
  {
   "cell_type": "code",
   "execution_count": 17,
   "metadata": {},
   "outputs": [
    {
     "data": {
      "text/html": [
       "<div>\n",
       "<style scoped>\n",
       "    .dataframe tbody tr th:only-of-type {\n",
       "        vertical-align: middle;\n",
       "    }\n",
       "\n",
       "    .dataframe tbody tr th {\n",
       "        vertical-align: top;\n",
       "    }\n",
       "\n",
       "    .dataframe thead th {\n",
       "        text-align: right;\n",
       "    }\n",
       "</style>\n",
       "<table border=\"1\" class=\"dataframe\">\n",
       "  <thead>\n",
       "    <tr style=\"text-align: right;\">\n",
       "      <th></th>\n",
       "      <th>order(p, 0, q)(P, 0, Q, 12)</th>\n",
       "      <th>AIC</th>\n",
       "      <th>RMSE</th>\n",
       "    </tr>\n",
       "  </thead>\n",
       "  <tbody>\n",
       "    <tr>\n",
       "      <th>1</th>\n",
       "      <td>(1, 1, 4, 1)</td>\n",
       "      <td>68989.052039</td>\n",
       "      <td>1.271126</td>\n",
       "    </tr>\n",
       "    <tr>\n",
       "      <th>13</th>\n",
       "      <td>(2, 4, 2, 4)</td>\n",
       "      <td>68875.099931</td>\n",
       "      <td>1.276671</td>\n",
       "    </tr>\n",
       "    <tr>\n",
       "      <th>4</th>\n",
       "      <td>(2, 4, 1, 3)</td>\n",
       "      <td>68930.087191</td>\n",
       "      <td>1.277216</td>\n",
       "    </tr>\n",
       "  </tbody>\n",
       "</table>\n",
       "</div>"
      ],
      "text/plain": [
       "   order(p, 0, q)(P, 0, Q, 12)           AIC      RMSE\n",
       "1                 (1, 1, 4, 1)  68989.052039  1.271126\n",
       "13                (2, 4, 2, 4)  68875.099931  1.276671\n",
       "4                 (2, 4, 1, 3)  68930.087191  1.277216"
      ]
     },
     "execution_count": 17,
     "metadata": {},
     "output_type": "execute_result"
    }
   ],
   "source": [
    "sarimax_results.sort_values('RMSE').head(3)"
   ]
  },
  {
   "cell_type": "code",
   "execution_count": 18,
   "metadata": {},
   "outputs": [
    {
     "data": {
      "text/html": [
       "<div>\n",
       "<style scoped>\n",
       "    .dataframe tbody tr th:only-of-type {\n",
       "        vertical-align: middle;\n",
       "    }\n",
       "\n",
       "    .dataframe tbody tr th {\n",
       "        vertical-align: top;\n",
       "    }\n",
       "\n",
       "    .dataframe thead th {\n",
       "        text-align: right;\n",
       "    }\n",
       "</style>\n",
       "<table border=\"1\" class=\"dataframe\">\n",
       "  <thead>\n",
       "    <tr style=\"text-align: right;\">\n",
       "      <th></th>\n",
       "      <th>order(p, 0, q)(P, 0, Q, 12)</th>\n",
       "      <th>AIC</th>\n",
       "      <th>RMSE</th>\n",
       "    </tr>\n",
       "  </thead>\n",
       "  <tbody>\n",
       "    <tr>\n",
       "      <th>8</th>\n",
       "      <td>(4, 2, 3, 1)</td>\n",
       "      <td>68849.086584</td>\n",
       "      <td>1.299158</td>\n",
       "    </tr>\n",
       "    <tr>\n",
       "      <th>13</th>\n",
       "      <td>(2, 4, 2, 4)</td>\n",
       "      <td>68875.099931</td>\n",
       "      <td>1.276671</td>\n",
       "    </tr>\n",
       "    <tr>\n",
       "      <th>3</th>\n",
       "      <td>(2, 4, 4, 2)</td>\n",
       "      <td>68883.663679</td>\n",
       "      <td>1.277955</td>\n",
       "    </tr>\n",
       "  </tbody>\n",
       "</table>\n",
       "</div>"
      ],
      "text/plain": [
       "   order(p, 0, q)(P, 0, Q, 12)           AIC      RMSE\n",
       "8                 (4, 2, 3, 1)  68849.086584  1.299158\n",
       "13                (2, 4, 2, 4)  68875.099931  1.276671\n",
       "3                 (2, 4, 4, 2)  68883.663679  1.277955"
      ]
     },
     "execution_count": 18,
     "metadata": {},
     "output_type": "execute_result"
    }
   ],
   "source": [
    "sarimax_results.sort_values('AIC').head(3)"
   ]
  },
  {
   "cell_type": "code",
   "execution_count": 11,
   "metadata": {},
   "outputs": [
    {
     "data": {
      "text/html": [
       "<div>\n",
       "<style scoped>\n",
       "    .dataframe tbody tr th:only-of-type {\n",
       "        vertical-align: middle;\n",
       "    }\n",
       "\n",
       "    .dataframe tbody tr th {\n",
       "        vertical-align: top;\n",
       "    }\n",
       "\n",
       "    .dataframe thead th {\n",
       "        text-align: right;\n",
       "    }\n",
       "</style>\n",
       "<table border=\"1\" class=\"dataframe\">\n",
       "  <thead>\n",
       "    <tr style=\"text-align: right;\">\n",
       "      <th></th>\n",
       "      <th>order(p, 0, q)(P, 0, Q, 12)</th>\n",
       "      <th>AIC</th>\n",
       "      <th>RMSE</th>\n",
       "    </tr>\n",
       "  </thead>\n",
       "  <tbody>\n",
       "    <tr>\n",
       "      <th>3</th>\n",
       "      <td>(2, 4, 4, 2)</td>\n",
       "      <td>72162.170426</td>\n",
       "      <td>1.666344</td>\n",
       "    </tr>\n",
       "    <tr>\n",
       "      <th>6</th>\n",
       "      <td>(1, 4, 2, 1)</td>\n",
       "      <td>72930.392396</td>\n",
       "      <td>1.706941</td>\n",
       "    </tr>\n",
       "    <tr>\n",
       "      <th>7</th>\n",
       "      <td>(1, 3, 4, 1)</td>\n",
       "      <td>72747.534991</td>\n",
       "      <td>1.714793</td>\n",
       "    </tr>\n",
       "  </tbody>\n",
       "</table>\n",
       "</div>"
      ],
      "text/plain": [
       "  order(p, 0, q)(P, 0, Q, 12)           AIC      RMSE\n",
       "3                (2, 4, 4, 2)  72162.170426  1.666344\n",
       "6                (1, 4, 2, 1)  72930.392396  1.706941\n",
       "7                (1, 3, 4, 1)  72747.534991  1.714793"
      ]
     },
     "execution_count": 11,
     "metadata": {},
     "output_type": "execute_result"
    }
   ],
   "source": [
    "sarimax_results.sort_values('RMSE').head(3)"
   ]
  },
  {
   "cell_type": "code",
   "execution_count": 23,
   "metadata": {},
   "outputs": [
    {
     "data": {
      "text/html": [
       "<div>\n",
       "<style scoped>\n",
       "    .dataframe tbody tr th:only-of-type {\n",
       "        vertical-align: middle;\n",
       "    }\n",
       "\n",
       "    .dataframe tbody tr th {\n",
       "        vertical-align: top;\n",
       "    }\n",
       "\n",
       "    .dataframe thead th {\n",
       "        text-align: right;\n",
       "    }\n",
       "</style>\n",
       "<table border=\"1\" class=\"dataframe\">\n",
       "  <thead>\n",
       "    <tr style=\"text-align: right;\">\n",
       "      <th></th>\n",
       "      <th>order(p, 0, q)(P, 0, Q, 12)</th>\n",
       "      <th>AIC</th>\n",
       "      <th>RMSE</th>\n",
       "    </tr>\n",
       "  </thead>\n",
       "  <tbody>\n",
       "    <tr>\n",
       "      <th>8</th>\n",
       "      <td>(4, 2, 3, 1)</td>\n",
       "      <td>68849.086584</td>\n",
       "      <td>1.299158</td>\n",
       "    </tr>\n",
       "    <tr>\n",
       "      <th>13</th>\n",
       "      <td>(2, 4, 2, 4)</td>\n",
       "      <td>68875.099931</td>\n",
       "      <td>1.276671</td>\n",
       "    </tr>\n",
       "    <tr>\n",
       "      <th>3</th>\n",
       "      <td>(2, 4, 4, 2)</td>\n",
       "      <td>68883.663679</td>\n",
       "      <td>1.277955</td>\n",
       "    </tr>\n",
       "  </tbody>\n",
       "</table>\n",
       "</div>"
      ],
      "text/plain": [
       "   order(p, 0, q)(P, 0, Q, 12)           AIC      RMSE\n",
       "8                 (4, 2, 3, 1)  68849.086584  1.299158\n",
       "13                (2, 4, 2, 4)  68875.099931  1.276671\n",
       "3                 (2, 4, 4, 2)  68883.663679  1.277955"
      ]
     },
     "execution_count": 23,
     "metadata": {},
     "output_type": "execute_result"
    }
   ],
   "source": [
    "sarimax_results.sort_values('AIC').head(3)"
   ]
  },
  {
   "cell_type": "markdown",
   "metadata": {},
   "source": [
    "Best model based on RMSE\n",
    "\n",
    "$$SARIMA(2,0,4)(4,0,2)_{12}$$ "
   ]
  },
  {
   "cell_type": "code",
   "execution_count": 19,
   "metadata": {},
   "outputs": [],
   "source": [
    "## create results directory\n",
    "\n",
    "os.makedirs('./results', exist_ok=True)\n",
    "\n",
    "sarimax_results.sort_values('RMSE').to_csv('./results/sarimax_grid_search_results.csv', index=False)"
   ]
  },
  {
   "cell_type": "markdown",
   "metadata": {},
   "source": [
    "## Model Diagnostics"
   ]
  },
  {
   "cell_type": "code",
   "execution_count": 20,
   "metadata": {},
   "outputs": [
    {
     "ename": "KeyboardInterrupt",
     "evalue": "",
     "output_type": "error",
     "traceback": [
      "\u001b[0;31m---------------------------------------------------------------------------\u001b[0m",
      "\u001b[0;31mKeyboardInterrupt\u001b[0m                         Traceback (most recent call last)",
      "Cell \u001b[0;32mIn[20], line 1\u001b[0m\n\u001b[0;32m----> 1\u001b[0m final_model \u001b[38;5;241m=\u001b[39m \u001b[43mSARIMAX\u001b[49m\u001b[43m(\u001b[49m\n\u001b[1;32m      2\u001b[0m \u001b[43m    \u001b[49m\u001b[43mendog\u001b[49m\u001b[38;5;241;43m=\u001b[39;49m\u001b[43mtrain_endo\u001b[49m\u001b[43m,\u001b[49m\u001b[43m \u001b[49m\n\u001b[1;32m      3\u001b[0m \u001b[43m    \u001b[49m\u001b[43mexog\u001b[49m\u001b[38;5;241;43m=\u001b[39;49m\u001b[43mtrain_exo\u001b[49m\u001b[43m,\u001b[49m\n\u001b[1;32m      4\u001b[0m \u001b[43m    \u001b[49m\u001b[43morder\u001b[49m\u001b[38;5;241;43m=\u001b[39;49m\u001b[43m(\u001b[49m\u001b[38;5;241;43m2\u001b[39;49m\u001b[43m,\u001b[49m\u001b[43m \u001b[49m\u001b[38;5;241;43m0\u001b[39;49m\u001b[43m,\u001b[49m\u001b[43m \u001b[49m\u001b[38;5;241;43m3\u001b[39;49m\u001b[43m)\u001b[49m\u001b[43m,\u001b[49m\n\u001b[1;32m      5\u001b[0m \u001b[43m    \u001b[49m\u001b[43mseasonal_order\u001b[49m\u001b[38;5;241;43m=\u001b[39;49m\u001b[43m(\u001b[49m\u001b[38;5;241;43m4\u001b[39;49m\u001b[43m,\u001b[49m\u001b[43m \u001b[49m\u001b[38;5;241;43m0\u001b[39;49m\u001b[43m,\u001b[49m\u001b[43m \u001b[49m\u001b[38;5;241;43m4\u001b[39;49m\u001b[43m,\u001b[49m\u001b[43m \u001b[49m\u001b[38;5;241;43m12\u001b[39;49m\u001b[43m)\u001b[49m\u001b[43m,\u001b[49m\n\u001b[1;32m      6\u001b[0m \u001b[43m    \u001b[49m\u001b[43menforce_stationarity\u001b[49m\u001b[38;5;241;43m=\u001b[39;49m\u001b[38;5;28;43;01mFalse\u001b[39;49;00m\u001b[43m,\u001b[49m\n\u001b[1;32m      7\u001b[0m \u001b[43m    \u001b[49m\u001b[43menforce_invertibility\u001b[49m\u001b[38;5;241;43m=\u001b[39;49m\u001b[38;5;28;43;01mFalse\u001b[39;49;00m\u001b[43m,\u001b[49m\n\u001b[1;32m      8\u001b[0m \u001b[43m    \u001b[49m\u001b[43msimple_differencing\u001b[49m\u001b[38;5;241;43m=\u001b[39;49m\u001b[38;5;28;43;01mFalse\u001b[39;49;00m\n\u001b[1;32m      9\u001b[0m \u001b[43m)\u001b[49m\u001b[38;5;241;43m.\u001b[39;49m\u001b[43mfit\u001b[49m\u001b[43m(\u001b[49m\u001b[43mdisp\u001b[49m\u001b[38;5;241;43m=\u001b[39;49m\u001b[38;5;28;43;01mFalse\u001b[39;49;00m\u001b[43m)\u001b[49m\n\u001b[1;32m     11\u001b[0m \u001b[38;5;28mprint\u001b[39m(final_model\u001b[38;5;241m.\u001b[39msummary())\n",
      "File \u001b[0;32m~/Time Series/.venv/lib/python3.10/site-packages/statsmodels/tsa/statespace/mlemodel.py:704\u001b[0m, in \u001b[0;36mMLEModel.fit\u001b[0;34m(self, start_params, transformed, includes_fixed, cov_type, cov_kwds, method, maxiter, full_output, disp, callback, return_params, optim_score, optim_complex_step, optim_hessian, flags, low_memory, **kwargs)\u001b[0m\n\u001b[1;32m    702\u001b[0m         flags[\u001b[38;5;124m'\u001b[39m\u001b[38;5;124mhessian_method\u001b[39m\u001b[38;5;124m'\u001b[39m] \u001b[38;5;241m=\u001b[39m optim_hessian\n\u001b[1;32m    703\u001b[0m     fargs \u001b[38;5;241m=\u001b[39m (flags,)\n\u001b[0;32m--> 704\u001b[0m     mlefit \u001b[38;5;241m=\u001b[39m \u001b[38;5;28;43msuper\u001b[39;49m\u001b[43m(\u001b[49m\u001b[43mMLEModel\u001b[49m\u001b[43m,\u001b[49m\u001b[43m \u001b[49m\u001b[38;5;28;43mself\u001b[39;49m\u001b[43m)\u001b[49m\u001b[38;5;241;43m.\u001b[39;49m\u001b[43mfit\u001b[49m\u001b[43m(\u001b[49m\u001b[43mstart_params\u001b[49m\u001b[43m,\u001b[49m\u001b[43m \u001b[49m\u001b[43mmethod\u001b[49m\u001b[38;5;241;43m=\u001b[39;49m\u001b[43mmethod\u001b[49m\u001b[43m,\u001b[49m\n\u001b[1;32m    705\u001b[0m \u001b[43m                                       \u001b[49m\u001b[43mfargs\u001b[49m\u001b[38;5;241;43m=\u001b[39;49m\u001b[43mfargs\u001b[49m\u001b[43m,\u001b[49m\n\u001b[1;32m    706\u001b[0m \u001b[43m                                       \u001b[49m\u001b[43mmaxiter\u001b[49m\u001b[38;5;241;43m=\u001b[39;49m\u001b[43mmaxiter\u001b[49m\u001b[43m,\u001b[49m\n\u001b[1;32m    707\u001b[0m \u001b[43m                                       \u001b[49m\u001b[43mfull_output\u001b[49m\u001b[38;5;241;43m=\u001b[39;49m\u001b[43mfull_output\u001b[49m\u001b[43m,\u001b[49m\n\u001b[1;32m    708\u001b[0m \u001b[43m                                       \u001b[49m\u001b[43mdisp\u001b[49m\u001b[38;5;241;43m=\u001b[39;49m\u001b[43mdisp\u001b[49m\u001b[43m,\u001b[49m\u001b[43m \u001b[49m\u001b[43mcallback\u001b[49m\u001b[38;5;241;43m=\u001b[39;49m\u001b[43mcallback\u001b[49m\u001b[43m,\u001b[49m\n\u001b[1;32m    709\u001b[0m \u001b[43m                                       \u001b[49m\u001b[43mskip_hessian\u001b[49m\u001b[38;5;241;43m=\u001b[39;49m\u001b[38;5;28;43;01mTrue\u001b[39;49;00m\u001b[43m,\u001b[49m\u001b[43m \u001b[49m\u001b[38;5;241;43m*\u001b[39;49m\u001b[38;5;241;43m*\u001b[39;49m\u001b[43mkwargs\u001b[49m\u001b[43m)\u001b[49m\n\u001b[1;32m    711\u001b[0m \u001b[38;5;66;03m# Just return the fitted parameters if requested\u001b[39;00m\n\u001b[1;32m    712\u001b[0m \u001b[38;5;28;01mif\u001b[39;00m return_params:\n",
      "File \u001b[0;32m~/Time Series/.venv/lib/python3.10/site-packages/statsmodels/base/model.py:566\u001b[0m, in \u001b[0;36mLikelihoodModel.fit\u001b[0;34m(self, start_params, method, maxiter, full_output, disp, fargs, callback, retall, skip_hessian, **kwargs)\u001b[0m\n\u001b[1;32m    563\u001b[0m     \u001b[38;5;28;01mdel\u001b[39;00m kwargs[\u001b[38;5;124m\"\u001b[39m\u001b[38;5;124muse_t\u001b[39m\u001b[38;5;124m\"\u001b[39m]\n\u001b[1;32m    565\u001b[0m optimizer \u001b[38;5;241m=\u001b[39m Optimizer()\n\u001b[0;32m--> 566\u001b[0m xopt, retvals, optim_settings \u001b[38;5;241m=\u001b[39m \u001b[43moptimizer\u001b[49m\u001b[38;5;241;43m.\u001b[39;49m\u001b[43m_fit\u001b[49m\u001b[43m(\u001b[49m\u001b[43mf\u001b[49m\u001b[43m,\u001b[49m\u001b[43m \u001b[49m\u001b[43mscore\u001b[49m\u001b[43m,\u001b[49m\u001b[43m \u001b[49m\u001b[43mstart_params\u001b[49m\u001b[43m,\u001b[49m\n\u001b[1;32m    567\u001b[0m \u001b[43m                                               \u001b[49m\u001b[43mfargs\u001b[49m\u001b[43m,\u001b[49m\u001b[43m \u001b[49m\u001b[43mkwargs\u001b[49m\u001b[43m,\u001b[49m\n\u001b[1;32m    568\u001b[0m \u001b[43m                                               \u001b[49m\u001b[43mhessian\u001b[49m\u001b[38;5;241;43m=\u001b[39;49m\u001b[43mhess\u001b[49m\u001b[43m,\u001b[49m\n\u001b[1;32m    569\u001b[0m \u001b[43m                                               \u001b[49m\u001b[43mmethod\u001b[49m\u001b[38;5;241;43m=\u001b[39;49m\u001b[43mmethod\u001b[49m\u001b[43m,\u001b[49m\n\u001b[1;32m    570\u001b[0m \u001b[43m                                               \u001b[49m\u001b[43mdisp\u001b[49m\u001b[38;5;241;43m=\u001b[39;49m\u001b[43mdisp\u001b[49m\u001b[43m,\u001b[49m\n\u001b[1;32m    571\u001b[0m \u001b[43m                                               \u001b[49m\u001b[43mmaxiter\u001b[49m\u001b[38;5;241;43m=\u001b[39;49m\u001b[43mmaxiter\u001b[49m\u001b[43m,\u001b[49m\n\u001b[1;32m    572\u001b[0m \u001b[43m                                               \u001b[49m\u001b[43mcallback\u001b[49m\u001b[38;5;241;43m=\u001b[39;49m\u001b[43mcallback\u001b[49m\u001b[43m,\u001b[49m\n\u001b[1;32m    573\u001b[0m \u001b[43m                                               \u001b[49m\u001b[43mretall\u001b[49m\u001b[38;5;241;43m=\u001b[39;49m\u001b[43mretall\u001b[49m\u001b[43m,\u001b[49m\n\u001b[1;32m    574\u001b[0m \u001b[43m                                               \u001b[49m\u001b[43mfull_output\u001b[49m\u001b[38;5;241;43m=\u001b[39;49m\u001b[43mfull_output\u001b[49m\u001b[43m)\u001b[49m\n\u001b[1;32m    575\u001b[0m \u001b[38;5;66;03m# Restore cov_type, cov_kwds and use_t\u001b[39;00m\n\u001b[1;32m    576\u001b[0m optim_settings\u001b[38;5;241m.\u001b[39mupdate(kwds)\n",
      "File \u001b[0;32m~/Time Series/.venv/lib/python3.10/site-packages/statsmodels/base/optimizer.py:242\u001b[0m, in \u001b[0;36mOptimizer._fit\u001b[0;34m(self, objective, gradient, start_params, fargs, kwargs, hessian, method, maxiter, full_output, disp, callback, retall)\u001b[0m\n\u001b[1;32m    239\u001b[0m     fit_funcs\u001b[38;5;241m.\u001b[39mupdate(extra_fit_funcs)\n\u001b[1;32m    241\u001b[0m func \u001b[38;5;241m=\u001b[39m fit_funcs[method]\n\u001b[0;32m--> 242\u001b[0m xopt, retvals \u001b[38;5;241m=\u001b[39m \u001b[43mfunc\u001b[49m\u001b[43m(\u001b[49m\u001b[43mobjective\u001b[49m\u001b[43m,\u001b[49m\u001b[43m \u001b[49m\u001b[43mgradient\u001b[49m\u001b[43m,\u001b[49m\u001b[43m \u001b[49m\u001b[43mstart_params\u001b[49m\u001b[43m,\u001b[49m\u001b[43m \u001b[49m\u001b[43mfargs\u001b[49m\u001b[43m,\u001b[49m\u001b[43m \u001b[49m\u001b[43mkwargs\u001b[49m\u001b[43m,\u001b[49m\n\u001b[1;32m    243\u001b[0m \u001b[43m                     \u001b[49m\u001b[43mdisp\u001b[49m\u001b[38;5;241;43m=\u001b[39;49m\u001b[43mdisp\u001b[49m\u001b[43m,\u001b[49m\u001b[43m \u001b[49m\u001b[43mmaxiter\u001b[49m\u001b[38;5;241;43m=\u001b[39;49m\u001b[43mmaxiter\u001b[49m\u001b[43m,\u001b[49m\u001b[43m \u001b[49m\u001b[43mcallback\u001b[49m\u001b[38;5;241;43m=\u001b[39;49m\u001b[43mcallback\u001b[49m\u001b[43m,\u001b[49m\n\u001b[1;32m    244\u001b[0m \u001b[43m                     \u001b[49m\u001b[43mretall\u001b[49m\u001b[38;5;241;43m=\u001b[39;49m\u001b[43mretall\u001b[49m\u001b[43m,\u001b[49m\u001b[43m \u001b[49m\u001b[43mfull_output\u001b[49m\u001b[38;5;241;43m=\u001b[39;49m\u001b[43mfull_output\u001b[49m\u001b[43m,\u001b[49m\n\u001b[1;32m    245\u001b[0m \u001b[43m                     \u001b[49m\u001b[43mhess\u001b[49m\u001b[38;5;241;43m=\u001b[39;49m\u001b[43mhessian\u001b[49m\u001b[43m)\u001b[49m\n\u001b[1;32m    247\u001b[0m optim_settings \u001b[38;5;241m=\u001b[39m {\u001b[38;5;124m'\u001b[39m\u001b[38;5;124moptimizer\u001b[39m\u001b[38;5;124m'\u001b[39m: method, \u001b[38;5;124m'\u001b[39m\u001b[38;5;124mstart_params\u001b[39m\u001b[38;5;124m'\u001b[39m: start_params,\n\u001b[1;32m    248\u001b[0m                   \u001b[38;5;124m'\u001b[39m\u001b[38;5;124mmaxiter\u001b[39m\u001b[38;5;124m'\u001b[39m: maxiter, \u001b[38;5;124m'\u001b[39m\u001b[38;5;124mfull_output\u001b[39m\u001b[38;5;124m'\u001b[39m: full_output,\n\u001b[1;32m    249\u001b[0m                   \u001b[38;5;124m'\u001b[39m\u001b[38;5;124mdisp\u001b[39m\u001b[38;5;124m'\u001b[39m: disp, \u001b[38;5;124m'\u001b[39m\u001b[38;5;124mfargs\u001b[39m\u001b[38;5;124m'\u001b[39m: fargs, \u001b[38;5;124m'\u001b[39m\u001b[38;5;124mcallback\u001b[39m\u001b[38;5;124m'\u001b[39m: callback,\n\u001b[1;32m    250\u001b[0m                   \u001b[38;5;124m'\u001b[39m\u001b[38;5;124mretall\u001b[39m\u001b[38;5;124m'\u001b[39m: retall, \u001b[38;5;124m\"\u001b[39m\u001b[38;5;124mextra_fit_funcs\u001b[39m\u001b[38;5;124m\"\u001b[39m: extra_fit_funcs}\n\u001b[1;32m    251\u001b[0m optim_settings\u001b[38;5;241m.\u001b[39mupdate(kwargs)\n",
      "File \u001b[0;32m~/Time Series/.venv/lib/python3.10/site-packages/statsmodels/base/optimizer.py:659\u001b[0m, in \u001b[0;36m_fit_lbfgs\u001b[0;34m(f, score, start_params, fargs, kwargs, disp, maxiter, callback, retall, full_output, hess)\u001b[0m\n\u001b[1;32m    656\u001b[0m \u001b[38;5;28;01melif\u001b[39;00m approx_grad:\n\u001b[1;32m    657\u001b[0m     func \u001b[38;5;241m=\u001b[39m f\n\u001b[0;32m--> 659\u001b[0m retvals \u001b[38;5;241m=\u001b[39m \u001b[43moptimize\u001b[49m\u001b[38;5;241;43m.\u001b[39;49m\u001b[43mfmin_l_bfgs_b\u001b[49m\u001b[43m(\u001b[49m\u001b[43mfunc\u001b[49m\u001b[43m,\u001b[49m\u001b[43m \u001b[49m\u001b[43mstart_params\u001b[49m\u001b[43m,\u001b[49m\u001b[43m \u001b[49m\u001b[43mmaxiter\u001b[49m\u001b[38;5;241;43m=\u001b[39;49m\u001b[43mmaxiter\u001b[49m\u001b[43m,\u001b[49m\n\u001b[1;32m    660\u001b[0m \u001b[43m                                 \u001b[49m\u001b[43mcallback\u001b[49m\u001b[38;5;241;43m=\u001b[39;49m\u001b[43mcallback\u001b[49m\u001b[43m,\u001b[49m\u001b[43m \u001b[49m\u001b[43margs\u001b[49m\u001b[38;5;241;43m=\u001b[39;49m\u001b[43mfargs\u001b[49m\u001b[43m,\u001b[49m\n\u001b[1;32m    661\u001b[0m \u001b[43m                                 \u001b[49m\u001b[43mbounds\u001b[49m\u001b[38;5;241;43m=\u001b[39;49m\u001b[43mbounds\u001b[49m\u001b[43m,\u001b[49m\u001b[43m \u001b[49m\u001b[43mdisp\u001b[49m\u001b[38;5;241;43m=\u001b[39;49m\u001b[43mdisp\u001b[49m\u001b[43m,\u001b[49m\n\u001b[1;32m    662\u001b[0m \u001b[43m                                 \u001b[49m\u001b[38;5;241;43m*\u001b[39;49m\u001b[38;5;241;43m*\u001b[39;49m\u001b[43mextra_kwargs\u001b[49m\u001b[43m)\u001b[49m\n\u001b[1;32m    664\u001b[0m \u001b[38;5;28;01mif\u001b[39;00m full_output:\n\u001b[1;32m    665\u001b[0m     xopt, fopt, d \u001b[38;5;241m=\u001b[39m retvals\n",
      "File \u001b[0;32m~/Time Series/.venv/lib/python3.10/site-packages/scipy/optimize/_lbfgsb_py.py:199\u001b[0m, in \u001b[0;36mfmin_l_bfgs_b\u001b[0;34m(func, x0, fprime, args, approx_grad, bounds, m, factr, pgtol, epsilon, iprint, maxfun, maxiter, disp, callback, maxls)\u001b[0m\n\u001b[1;32m    187\u001b[0m callback \u001b[38;5;241m=\u001b[39m _wrap_callback(callback)\n\u001b[1;32m    188\u001b[0m opts \u001b[38;5;241m=\u001b[39m {\u001b[38;5;124m'\u001b[39m\u001b[38;5;124mdisp\u001b[39m\u001b[38;5;124m'\u001b[39m: disp,\n\u001b[1;32m    189\u001b[0m         \u001b[38;5;124m'\u001b[39m\u001b[38;5;124miprint\u001b[39m\u001b[38;5;124m'\u001b[39m: iprint,\n\u001b[1;32m    190\u001b[0m         \u001b[38;5;124m'\u001b[39m\u001b[38;5;124mmaxcor\u001b[39m\u001b[38;5;124m'\u001b[39m: m,\n\u001b[0;32m   (...)\u001b[0m\n\u001b[1;32m    196\u001b[0m         \u001b[38;5;124m'\u001b[39m\u001b[38;5;124mcallback\u001b[39m\u001b[38;5;124m'\u001b[39m: callback,\n\u001b[1;32m    197\u001b[0m         \u001b[38;5;124m'\u001b[39m\u001b[38;5;124mmaxls\u001b[39m\u001b[38;5;124m'\u001b[39m: maxls}\n\u001b[0;32m--> 199\u001b[0m res \u001b[38;5;241m=\u001b[39m \u001b[43m_minimize_lbfgsb\u001b[49m\u001b[43m(\u001b[49m\u001b[43mfun\u001b[49m\u001b[43m,\u001b[49m\u001b[43m \u001b[49m\u001b[43mx0\u001b[49m\u001b[43m,\u001b[49m\u001b[43m \u001b[49m\u001b[43margs\u001b[49m\u001b[38;5;241;43m=\u001b[39;49m\u001b[43margs\u001b[49m\u001b[43m,\u001b[49m\u001b[43m \u001b[49m\u001b[43mjac\u001b[49m\u001b[38;5;241;43m=\u001b[39;49m\u001b[43mjac\u001b[49m\u001b[43m,\u001b[49m\u001b[43m \u001b[49m\u001b[43mbounds\u001b[49m\u001b[38;5;241;43m=\u001b[39;49m\u001b[43mbounds\u001b[49m\u001b[43m,\u001b[49m\n\u001b[1;32m    200\u001b[0m \u001b[43m                       \u001b[49m\u001b[38;5;241;43m*\u001b[39;49m\u001b[38;5;241;43m*\u001b[39;49m\u001b[43mopts\u001b[49m\u001b[43m)\u001b[49m\n\u001b[1;32m    201\u001b[0m d \u001b[38;5;241m=\u001b[39m {\u001b[38;5;124m'\u001b[39m\u001b[38;5;124mgrad\u001b[39m\u001b[38;5;124m'\u001b[39m: res[\u001b[38;5;124m'\u001b[39m\u001b[38;5;124mjac\u001b[39m\u001b[38;5;124m'\u001b[39m],\n\u001b[1;32m    202\u001b[0m      \u001b[38;5;124m'\u001b[39m\u001b[38;5;124mtask\u001b[39m\u001b[38;5;124m'\u001b[39m: res[\u001b[38;5;124m'\u001b[39m\u001b[38;5;124mmessage\u001b[39m\u001b[38;5;124m'\u001b[39m],\n\u001b[1;32m    203\u001b[0m      \u001b[38;5;124m'\u001b[39m\u001b[38;5;124mfuncalls\u001b[39m\u001b[38;5;124m'\u001b[39m: res[\u001b[38;5;124m'\u001b[39m\u001b[38;5;124mnfev\u001b[39m\u001b[38;5;124m'\u001b[39m],\n\u001b[1;32m    204\u001b[0m      \u001b[38;5;124m'\u001b[39m\u001b[38;5;124mnit\u001b[39m\u001b[38;5;124m'\u001b[39m: res[\u001b[38;5;124m'\u001b[39m\u001b[38;5;124mnit\u001b[39m\u001b[38;5;124m'\u001b[39m],\n\u001b[1;32m    205\u001b[0m      \u001b[38;5;124m'\u001b[39m\u001b[38;5;124mwarnflag\u001b[39m\u001b[38;5;124m'\u001b[39m: res[\u001b[38;5;124m'\u001b[39m\u001b[38;5;124mstatus\u001b[39m\u001b[38;5;124m'\u001b[39m]}\n\u001b[1;32m    206\u001b[0m f \u001b[38;5;241m=\u001b[39m res[\u001b[38;5;124m'\u001b[39m\u001b[38;5;124mfun\u001b[39m\u001b[38;5;124m'\u001b[39m]\n",
      "File \u001b[0;32m~/Time Series/.venv/lib/python3.10/site-packages/scipy/optimize/_lbfgsb_py.py:309\u001b[0m, in \u001b[0;36m_minimize_lbfgsb\u001b[0;34m(fun, x0, args, jac, bounds, disp, maxcor, ftol, gtol, eps, maxfun, maxiter, iprint, callback, maxls, finite_diff_rel_step, **unknown_options)\u001b[0m\n\u001b[1;32m    306\u001b[0m         iprint \u001b[38;5;241m=\u001b[39m disp\n\u001b[1;32m    308\u001b[0m \u001b[38;5;66;03m# _prepare_scalar_function can use bounds=None to represent no bounds\u001b[39;00m\n\u001b[0;32m--> 309\u001b[0m sf \u001b[38;5;241m=\u001b[39m \u001b[43m_prepare_scalar_function\u001b[49m\u001b[43m(\u001b[49m\u001b[43mfun\u001b[49m\u001b[43m,\u001b[49m\u001b[43m \u001b[49m\u001b[43mx0\u001b[49m\u001b[43m,\u001b[49m\u001b[43m \u001b[49m\u001b[43mjac\u001b[49m\u001b[38;5;241;43m=\u001b[39;49m\u001b[43mjac\u001b[49m\u001b[43m,\u001b[49m\u001b[43m \u001b[49m\u001b[43margs\u001b[49m\u001b[38;5;241;43m=\u001b[39;49m\u001b[43margs\u001b[49m\u001b[43m,\u001b[49m\u001b[43m \u001b[49m\u001b[43mepsilon\u001b[49m\u001b[38;5;241;43m=\u001b[39;49m\u001b[43meps\u001b[49m\u001b[43m,\u001b[49m\n\u001b[1;32m    310\u001b[0m \u001b[43m                              \u001b[49m\u001b[43mbounds\u001b[49m\u001b[38;5;241;43m=\u001b[39;49m\u001b[43mbounds\u001b[49m\u001b[43m,\u001b[49m\n\u001b[1;32m    311\u001b[0m \u001b[43m                              \u001b[49m\u001b[43mfinite_diff_rel_step\u001b[49m\u001b[38;5;241;43m=\u001b[39;49m\u001b[43mfinite_diff_rel_step\u001b[49m\u001b[43m)\u001b[49m\n\u001b[1;32m    313\u001b[0m func_and_grad \u001b[38;5;241m=\u001b[39m sf\u001b[38;5;241m.\u001b[39mfun_and_grad\n\u001b[1;32m    315\u001b[0m fortran_int \u001b[38;5;241m=\u001b[39m _lbfgsb\u001b[38;5;241m.\u001b[39mtypes\u001b[38;5;241m.\u001b[39mintvar\u001b[38;5;241m.\u001b[39mdtype\n",
      "File \u001b[0;32m~/Time Series/.venv/lib/python3.10/site-packages/scipy/optimize/_optimize.py:402\u001b[0m, in \u001b[0;36m_prepare_scalar_function\u001b[0;34m(fun, x0, jac, args, bounds, epsilon, finite_diff_rel_step, hess)\u001b[0m\n\u001b[1;32m    398\u001b[0m     bounds \u001b[38;5;241m=\u001b[39m (\u001b[38;5;241m-\u001b[39mnp\u001b[38;5;241m.\u001b[39minf, np\u001b[38;5;241m.\u001b[39minf)\n\u001b[1;32m    400\u001b[0m \u001b[38;5;66;03m# ScalarFunction caches. Reuse of fun(x) during grad\u001b[39;00m\n\u001b[1;32m    401\u001b[0m \u001b[38;5;66;03m# calculation reduces overall function evaluations.\u001b[39;00m\n\u001b[0;32m--> 402\u001b[0m sf \u001b[38;5;241m=\u001b[39m \u001b[43mScalarFunction\u001b[49m\u001b[43m(\u001b[49m\u001b[43mfun\u001b[49m\u001b[43m,\u001b[49m\u001b[43m \u001b[49m\u001b[43mx0\u001b[49m\u001b[43m,\u001b[49m\u001b[43m \u001b[49m\u001b[43margs\u001b[49m\u001b[43m,\u001b[49m\u001b[43m \u001b[49m\u001b[43mgrad\u001b[49m\u001b[43m,\u001b[49m\u001b[43m \u001b[49m\u001b[43mhess\u001b[49m\u001b[43m,\u001b[49m\n\u001b[1;32m    403\u001b[0m \u001b[43m                    \u001b[49m\u001b[43mfinite_diff_rel_step\u001b[49m\u001b[43m,\u001b[49m\u001b[43m \u001b[49m\u001b[43mbounds\u001b[49m\u001b[43m,\u001b[49m\u001b[43m \u001b[49m\u001b[43mepsilon\u001b[49m\u001b[38;5;241;43m=\u001b[39;49m\u001b[43mepsilon\u001b[49m\u001b[43m)\u001b[49m\n\u001b[1;32m    405\u001b[0m \u001b[38;5;28;01mreturn\u001b[39;00m sf\n",
      "File \u001b[0;32m~/Time Series/.venv/lib/python3.10/site-packages/scipy/optimize/_differentiable_functions.py:185\u001b[0m, in \u001b[0;36mScalarFunction.__init__\u001b[0;34m(self, fun, x0, args, grad, hess, finite_diff_rel_step, finite_diff_bounds, epsilon)\u001b[0m\n\u001b[1;32m    181\u001b[0m         \u001b[38;5;28mself\u001b[39m\u001b[38;5;241m.\u001b[39mg \u001b[38;5;241m=\u001b[39m approx_derivative(fun_wrapped, \u001b[38;5;28mself\u001b[39m\u001b[38;5;241m.\u001b[39mx, f0\u001b[38;5;241m=\u001b[39m\u001b[38;5;28mself\u001b[39m\u001b[38;5;241m.\u001b[39mf,\n\u001b[1;32m    182\u001b[0m                                    \u001b[38;5;241m*\u001b[39m\u001b[38;5;241m*\u001b[39mfinite_diff_options)\n\u001b[1;32m    184\u001b[0m \u001b[38;5;28mself\u001b[39m\u001b[38;5;241m.\u001b[39m_update_grad_impl \u001b[38;5;241m=\u001b[39m update_grad\n\u001b[0;32m--> 185\u001b[0m \u001b[38;5;28;43mself\u001b[39;49m\u001b[38;5;241;43m.\u001b[39;49m\u001b[43m_update_grad\u001b[49m\u001b[43m(\u001b[49m\u001b[43m)\u001b[49m\n\u001b[1;32m    187\u001b[0m \u001b[38;5;66;03m# Hessian Evaluation\u001b[39;00m\n\u001b[1;32m    188\u001b[0m \u001b[38;5;28;01mif\u001b[39;00m \u001b[38;5;28mcallable\u001b[39m(hess):\n",
      "File \u001b[0;32m~/Time Series/.venv/lib/python3.10/site-packages/scipy/optimize/_differentiable_functions.py:267\u001b[0m, in \u001b[0;36mScalarFunction._update_grad\u001b[0;34m(self)\u001b[0m\n\u001b[1;32m    265\u001b[0m \u001b[38;5;28;01mdef\u001b[39;00m \u001b[38;5;21m_update_grad\u001b[39m(\u001b[38;5;28mself\u001b[39m):\n\u001b[1;32m    266\u001b[0m     \u001b[38;5;28;01mif\u001b[39;00m \u001b[38;5;129;01mnot\u001b[39;00m \u001b[38;5;28mself\u001b[39m\u001b[38;5;241m.\u001b[39mg_updated:\n\u001b[0;32m--> 267\u001b[0m         \u001b[38;5;28;43mself\u001b[39;49m\u001b[38;5;241;43m.\u001b[39;49m\u001b[43m_update_grad_impl\u001b[49m\u001b[43m(\u001b[49m\u001b[43m)\u001b[49m\n\u001b[1;32m    268\u001b[0m         \u001b[38;5;28mself\u001b[39m\u001b[38;5;241m.\u001b[39mg_updated \u001b[38;5;241m=\u001b[39m \u001b[38;5;28;01mTrue\u001b[39;00m\n",
      "File \u001b[0;32m~/Time Series/.venv/lib/python3.10/site-packages/scipy/optimize/_differentiable_functions.py:181\u001b[0m, in \u001b[0;36mScalarFunction.__init__.<locals>.update_grad\u001b[0;34m()\u001b[0m\n\u001b[1;32m    179\u001b[0m \u001b[38;5;28mself\u001b[39m\u001b[38;5;241m.\u001b[39m_update_fun()\n\u001b[1;32m    180\u001b[0m \u001b[38;5;28mself\u001b[39m\u001b[38;5;241m.\u001b[39mngev \u001b[38;5;241m+\u001b[39m\u001b[38;5;241m=\u001b[39m \u001b[38;5;241m1\u001b[39m\n\u001b[0;32m--> 181\u001b[0m \u001b[38;5;28mself\u001b[39m\u001b[38;5;241m.\u001b[39mg \u001b[38;5;241m=\u001b[39m \u001b[43mapprox_derivative\u001b[49m\u001b[43m(\u001b[49m\u001b[43mfun_wrapped\u001b[49m\u001b[43m,\u001b[49m\u001b[43m \u001b[49m\u001b[38;5;28;43mself\u001b[39;49m\u001b[38;5;241;43m.\u001b[39;49m\u001b[43mx\u001b[49m\u001b[43m,\u001b[49m\u001b[43m \u001b[49m\u001b[43mf0\u001b[49m\u001b[38;5;241;43m=\u001b[39;49m\u001b[38;5;28;43mself\u001b[39;49m\u001b[38;5;241;43m.\u001b[39;49m\u001b[43mf\u001b[49m\u001b[43m,\u001b[49m\n\u001b[1;32m    182\u001b[0m \u001b[43m                           \u001b[49m\u001b[38;5;241;43m*\u001b[39;49m\u001b[38;5;241;43m*\u001b[39;49m\u001b[43mfinite_diff_options\u001b[49m\u001b[43m)\u001b[49m\n",
      "File \u001b[0;32m~/Time Series/.venv/lib/python3.10/site-packages/scipy/optimize/_numdiff.py:519\u001b[0m, in \u001b[0;36mapprox_derivative\u001b[0;34m(fun, x0, method, rel_step, abs_step, f0, bounds, sparsity, as_linear_operator, args, kwargs)\u001b[0m\n\u001b[1;32m    516\u001b[0m     use_one_sided \u001b[38;5;241m=\u001b[39m \u001b[38;5;28;01mFalse\u001b[39;00m\n\u001b[1;32m    518\u001b[0m \u001b[38;5;28;01mif\u001b[39;00m sparsity \u001b[38;5;129;01mis\u001b[39;00m \u001b[38;5;28;01mNone\u001b[39;00m:\n\u001b[0;32m--> 519\u001b[0m     \u001b[38;5;28;01mreturn\u001b[39;00m \u001b[43m_dense_difference\u001b[49m\u001b[43m(\u001b[49m\u001b[43mfun_wrapped\u001b[49m\u001b[43m,\u001b[49m\u001b[43m \u001b[49m\u001b[43mx0\u001b[49m\u001b[43m,\u001b[49m\u001b[43m \u001b[49m\u001b[43mf0\u001b[49m\u001b[43m,\u001b[49m\u001b[43m \u001b[49m\u001b[43mh\u001b[49m\u001b[43m,\u001b[49m\n\u001b[1;32m    520\u001b[0m \u001b[43m                             \u001b[49m\u001b[43muse_one_sided\u001b[49m\u001b[43m,\u001b[49m\u001b[43m \u001b[49m\u001b[43mmethod\u001b[49m\u001b[43m)\u001b[49m\n\u001b[1;32m    521\u001b[0m \u001b[38;5;28;01melse\u001b[39;00m:\n\u001b[1;32m    522\u001b[0m     \u001b[38;5;28;01mif\u001b[39;00m \u001b[38;5;129;01mnot\u001b[39;00m issparse(sparsity) \u001b[38;5;129;01mand\u001b[39;00m \u001b[38;5;28mlen\u001b[39m(sparsity) \u001b[38;5;241m==\u001b[39m \u001b[38;5;241m2\u001b[39m:\n",
      "File \u001b[0;32m~/Time Series/.venv/lib/python3.10/site-packages/scipy/optimize/_numdiff.py:590\u001b[0m, in \u001b[0;36m_dense_difference\u001b[0;34m(fun, x0, f0, h, use_one_sided, method)\u001b[0m\n\u001b[1;32m    588\u001b[0m     x \u001b[38;5;241m=\u001b[39m x0 \u001b[38;5;241m+\u001b[39m h_vecs[i]\n\u001b[1;32m    589\u001b[0m     dx \u001b[38;5;241m=\u001b[39m x[i] \u001b[38;5;241m-\u001b[39m x0[i]  \u001b[38;5;66;03m# Recompute dx as exactly representable number.\u001b[39;00m\n\u001b[0;32m--> 590\u001b[0m     df \u001b[38;5;241m=\u001b[39m \u001b[43mfun\u001b[49m\u001b[43m(\u001b[49m\u001b[43mx\u001b[49m\u001b[43m)\u001b[49m \u001b[38;5;241m-\u001b[39m f0\n\u001b[1;32m    591\u001b[0m \u001b[38;5;28;01melif\u001b[39;00m method \u001b[38;5;241m==\u001b[39m \u001b[38;5;124m'\u001b[39m\u001b[38;5;124m3-point\u001b[39m\u001b[38;5;124m'\u001b[39m \u001b[38;5;129;01mand\u001b[39;00m use_one_sided[i]:\n\u001b[1;32m    592\u001b[0m     x1 \u001b[38;5;241m=\u001b[39m x0 \u001b[38;5;241m+\u001b[39m h_vecs[i]\n",
      "File \u001b[0;32m~/Time Series/.venv/lib/python3.10/site-packages/scipy/optimize/_numdiff.py:470\u001b[0m, in \u001b[0;36mapprox_derivative.<locals>.fun_wrapped\u001b[0;34m(x)\u001b[0m\n\u001b[1;32m    467\u001b[0m \u001b[38;5;28;01mif\u001b[39;00m xp\u001b[38;5;241m.\u001b[39misdtype(x\u001b[38;5;241m.\u001b[39mdtype, \u001b[38;5;124m\"\u001b[39m\u001b[38;5;124mreal floating\u001b[39m\u001b[38;5;124m\"\u001b[39m):\n\u001b[1;32m    468\u001b[0m     x \u001b[38;5;241m=\u001b[39m xp\u001b[38;5;241m.\u001b[39mastype(x, x0\u001b[38;5;241m.\u001b[39mdtype)\n\u001b[0;32m--> 470\u001b[0m f \u001b[38;5;241m=\u001b[39m np\u001b[38;5;241m.\u001b[39matleast_1d(\u001b[43mfun\u001b[49m\u001b[43m(\u001b[49m\u001b[43mx\u001b[49m\u001b[43m,\u001b[49m\u001b[43m \u001b[49m\u001b[38;5;241;43m*\u001b[39;49m\u001b[43margs\u001b[49m\u001b[43m,\u001b[49m\u001b[43m \u001b[49m\u001b[38;5;241;43m*\u001b[39;49m\u001b[38;5;241;43m*\u001b[39;49m\u001b[43mkwargs\u001b[49m\u001b[43m)\u001b[49m)\n\u001b[1;32m    471\u001b[0m \u001b[38;5;28;01mif\u001b[39;00m f\u001b[38;5;241m.\u001b[39mndim \u001b[38;5;241m>\u001b[39m \u001b[38;5;241m1\u001b[39m:\n\u001b[1;32m    472\u001b[0m     \u001b[38;5;28;01mraise\u001b[39;00m \u001b[38;5;167;01mRuntimeError\u001b[39;00m(\u001b[38;5;124m\"\u001b[39m\u001b[38;5;124m`fun` return value has \u001b[39m\u001b[38;5;124m\"\u001b[39m\n\u001b[1;32m    473\u001b[0m                        \u001b[38;5;124m\"\u001b[39m\u001b[38;5;124mmore than 1 dimension.\u001b[39m\u001b[38;5;124m\"\u001b[39m)\n",
      "File \u001b[0;32m~/Time Series/.venv/lib/python3.10/site-packages/scipy/optimize/_differentiable_functions.py:145\u001b[0m, in \u001b[0;36mScalarFunction.__init__.<locals>.fun_wrapped\u001b[0;34m(x)\u001b[0m\n\u001b[1;32m    141\u001b[0m \u001b[38;5;28mself\u001b[39m\u001b[38;5;241m.\u001b[39mnfev \u001b[38;5;241m+\u001b[39m\u001b[38;5;241m=\u001b[39m \u001b[38;5;241m1\u001b[39m\n\u001b[1;32m    142\u001b[0m \u001b[38;5;66;03m# Send a copy because the user may overwrite it.\u001b[39;00m\n\u001b[1;32m    143\u001b[0m \u001b[38;5;66;03m# Overwriting results in undefined behaviour because\u001b[39;00m\n\u001b[1;32m    144\u001b[0m \u001b[38;5;66;03m# fun(self.x) will change self.x, with the two no longer linked.\u001b[39;00m\n\u001b[0;32m--> 145\u001b[0m fx \u001b[38;5;241m=\u001b[39m \u001b[43mfun\u001b[49m\u001b[43m(\u001b[49m\u001b[43mnp\u001b[49m\u001b[38;5;241;43m.\u001b[39;49m\u001b[43mcopy\u001b[49m\u001b[43m(\u001b[49m\u001b[43mx\u001b[49m\u001b[43m)\u001b[49m\u001b[43m,\u001b[49m\u001b[43m \u001b[49m\u001b[38;5;241;43m*\u001b[39;49m\u001b[43margs\u001b[49m\u001b[43m)\u001b[49m\n\u001b[1;32m    146\u001b[0m \u001b[38;5;66;03m# Make sure the function returns a true scalar\u001b[39;00m\n\u001b[1;32m    147\u001b[0m \u001b[38;5;28;01mif\u001b[39;00m \u001b[38;5;129;01mnot\u001b[39;00m np\u001b[38;5;241m.\u001b[39misscalar(fx):\n",
      "File \u001b[0;32m~/Time Series/.venv/lib/python3.10/site-packages/statsmodels/base/model.py:534\u001b[0m, in \u001b[0;36mLikelihoodModel.fit.<locals>.f\u001b[0;34m(params, *args)\u001b[0m\n\u001b[1;32m    533\u001b[0m \u001b[38;5;28;01mdef\u001b[39;00m \u001b[38;5;21mf\u001b[39m(params, \u001b[38;5;241m*\u001b[39margs):\n\u001b[0;32m--> 534\u001b[0m     \u001b[38;5;28;01mreturn\u001b[39;00m \u001b[38;5;241m-\u001b[39m\u001b[38;5;28;43mself\u001b[39;49m\u001b[38;5;241;43m.\u001b[39;49m\u001b[43mloglike\u001b[49m\u001b[43m(\u001b[49m\u001b[43mparams\u001b[49m\u001b[43m,\u001b[49m\u001b[43m \u001b[49m\u001b[38;5;241;43m*\u001b[39;49m\u001b[43margs\u001b[49m\u001b[43m)\u001b[49m \u001b[38;5;241m/\u001b[39m nobs\n",
      "File \u001b[0;32m~/Time Series/.venv/lib/python3.10/site-packages/statsmodels/tsa/statespace/mlemodel.py:939\u001b[0m, in \u001b[0;36mMLEModel.loglike\u001b[0;34m(self, params, *args, **kwargs)\u001b[0m\n\u001b[1;32m    936\u001b[0m \u001b[38;5;28;01mif\u001b[39;00m complex_step:\n\u001b[1;32m    937\u001b[0m     kwargs[\u001b[38;5;124m'\u001b[39m\u001b[38;5;124minversion_method\u001b[39m\u001b[38;5;124m'\u001b[39m] \u001b[38;5;241m=\u001b[39m INVERT_UNIVARIATE \u001b[38;5;241m|\u001b[39m SOLVE_LU\n\u001b[0;32m--> 939\u001b[0m loglike \u001b[38;5;241m=\u001b[39m \u001b[38;5;28;43mself\u001b[39;49m\u001b[38;5;241;43m.\u001b[39;49m\u001b[43mssm\u001b[49m\u001b[38;5;241;43m.\u001b[39;49m\u001b[43mloglike\u001b[49m\u001b[43m(\u001b[49m\u001b[43mcomplex_step\u001b[49m\u001b[38;5;241;43m=\u001b[39;49m\u001b[43mcomplex_step\u001b[49m\u001b[43m,\u001b[49m\u001b[43m \u001b[49m\u001b[38;5;241;43m*\u001b[39;49m\u001b[38;5;241;43m*\u001b[39;49m\u001b[43mkwargs\u001b[49m\u001b[43m)\u001b[49m\n\u001b[1;32m    941\u001b[0m \u001b[38;5;66;03m# Koopman, Shephard, and Doornik recommend maximizing the average\u001b[39;00m\n\u001b[1;32m    942\u001b[0m \u001b[38;5;66;03m# likelihood to avoid scale issues, but the averaging is done\u001b[39;00m\n\u001b[1;32m    943\u001b[0m \u001b[38;5;66;03m# automatically in the base model `fit` method\u001b[39;00m\n\u001b[1;32m    944\u001b[0m \u001b[38;5;28;01mreturn\u001b[39;00m loglike\n",
      "File \u001b[0;32m~/Time Series/.venv/lib/python3.10/site-packages/statsmodels/tsa/statespace/kalman_filter.py:1001\u001b[0m, in \u001b[0;36mKalmanFilter.loglike\u001b[0;34m(self, **kwargs)\u001b[0m\n\u001b[1;32m    985\u001b[0m \u001b[38;5;250m\u001b[39m\u001b[38;5;124mr\u001b[39m\u001b[38;5;124;03m\"\"\"\u001b[39;00m\n\u001b[1;32m    986\u001b[0m \u001b[38;5;124;03mCalculate the loglikelihood associated with the statespace model.\u001b[39;00m\n\u001b[1;32m    987\u001b[0m \n\u001b[0;32m   (...)\u001b[0m\n\u001b[1;32m    997\u001b[0m \u001b[38;5;124;03m    The joint loglikelihood.\u001b[39;00m\n\u001b[1;32m    998\u001b[0m \u001b[38;5;124;03m\"\"\"\u001b[39;00m\n\u001b[1;32m    999\u001b[0m kwargs\u001b[38;5;241m.\u001b[39msetdefault(\u001b[38;5;124m'\u001b[39m\u001b[38;5;124mconserve_memory\u001b[39m\u001b[38;5;124m'\u001b[39m,\n\u001b[1;32m   1000\u001b[0m                   MEMORY_CONSERVE \u001b[38;5;241m^\u001b[39m MEMORY_NO_LIKELIHOOD)\n\u001b[0;32m-> 1001\u001b[0m kfilter \u001b[38;5;241m=\u001b[39m \u001b[38;5;28;43mself\u001b[39;49m\u001b[38;5;241;43m.\u001b[39;49m\u001b[43m_filter\u001b[49m\u001b[43m(\u001b[49m\u001b[38;5;241;43m*\u001b[39;49m\u001b[38;5;241;43m*\u001b[39;49m\u001b[43mkwargs\u001b[49m\u001b[43m)\u001b[49m\n\u001b[1;32m   1002\u001b[0m loglikelihood_burn \u001b[38;5;241m=\u001b[39m kwargs\u001b[38;5;241m.\u001b[39mget(\u001b[38;5;124m'\u001b[39m\u001b[38;5;124mloglikelihood_burn\u001b[39m\u001b[38;5;124m'\u001b[39m,\n\u001b[1;32m   1003\u001b[0m                                 \u001b[38;5;28mself\u001b[39m\u001b[38;5;241m.\u001b[39mloglikelihood_burn)\n\u001b[1;32m   1004\u001b[0m \u001b[38;5;28;01mif\u001b[39;00m \u001b[38;5;129;01mnot\u001b[39;00m (kwargs[\u001b[38;5;124m'\u001b[39m\u001b[38;5;124mconserve_memory\u001b[39m\u001b[38;5;124m'\u001b[39m] \u001b[38;5;241m&\u001b[39m MEMORY_NO_LIKELIHOOD):\n",
      "File \u001b[0;32m~/Time Series/.venv/lib/python3.10/site-packages/statsmodels/tsa/statespace/kalman_filter.py:924\u001b[0m, in \u001b[0;36mKalmanFilter._filter\u001b[0;34m(self, filter_method, inversion_method, stability_method, conserve_memory, filter_timing, tolerance, loglikelihood_burn, complex_step)\u001b[0m\n\u001b[1;32m    921\u001b[0m \u001b[38;5;28mself\u001b[39m\u001b[38;5;241m.\u001b[39m_initialize_state(prefix\u001b[38;5;241m=\u001b[39mprefix, complex_step\u001b[38;5;241m=\u001b[39mcomplex_step)\n\u001b[1;32m    923\u001b[0m \u001b[38;5;66;03m# Run the filter\u001b[39;00m\n\u001b[0;32m--> 924\u001b[0m \u001b[43mkfilter\u001b[49m\u001b[43m(\u001b[49m\u001b[43m)\u001b[49m\n\u001b[1;32m    926\u001b[0m \u001b[38;5;28;01mreturn\u001b[39;00m kfilter\n",
      "\u001b[0;31mKeyboardInterrupt\u001b[0m: "
     ]
    }
   ],
   "source": [
    "final_model = SARIMAX(\n",
    "    endog=train_endo, \n",
    "    exog=train_exo,\n",
    "    order=(2, 0, 3),\n",
    "    seasonal_order=(4, 0, 4, 12),\n",
    "    enforce_stationarity=False,\n",
    "    enforce_invertibility=False,\n",
    "    simple_differencing=False\n",
    ").fit(disp=False)\n",
    "\n",
    "print(final_model.summary())"
   ]
  },
  {
   "cell_type": "code",
   "execution_count": 27,
   "metadata": {},
   "outputs": [],
   "source": [
    "best_order = sarimax_results.sort_values('RMSE').iloc[0]['order(p, 0, q)(P, 0, Q, 12)']"
   ]
  },
  {
   "cell_type": "code",
   "execution_count": 28,
   "metadata": {},
   "outputs": [
    {
     "name": "stdout",
     "output_type": "stream",
     "text": [
      "=========================================\n",
      "Best order: SARIMA(1, 0, 1)(4, 0, 1)_[12]\n",
      "=========================================\n",
      "\n",
      "                                     SARIMAX Results                                      \n",
      "==========================================================================================\n",
      "Dep. Variable:                Global_active_power   No. Observations:                24210\n",
      "Model:             SARIMAX(1, 0, 1)x(4, 0, 1, 12)   Log Likelihood              -36405.089\n",
      "Date:                            Tue, 20 Feb 2024   AIC                          72838.178\n",
      "Time:                                    21:10:04   BIC                          72951.473\n",
      "Sample:                                12-16-2006   HQIC                         72874.909\n",
      "                                     - 09-20-2009                                         \n",
      "Covariance Type:                              opg                                         \n",
      "=========================================================================================\n",
      "                            coef    std err          z      P>|z|      [0.025      0.975]\n",
      "-----------------------------------------------------------------------------------------\n",
      "Global_reactive_power    -0.2052      0.002   -118.675      0.000      -0.209      -0.202\n",
      "Voltage                2.237e-05   3.91e-06      5.716      0.000    1.47e-05       3e-05\n",
      "Global_intensity          0.2374    6.6e-05   3595.035      0.000       0.237       0.237\n",
      "Sub_metering_1           -0.0007   2.85e-05    -24.214      0.000      -0.001      -0.001\n",
      "Sub_metering_2           -0.0006    2.4e-05    -26.201      0.000      -0.001      -0.001\n",
      "Sub_metering_3            0.0019    2.6e-05     72.068      0.000       0.002       0.002\n",
      "ar.L1                     0.7095      0.006    127.592      0.000       0.699       0.720\n",
      "ma.L1                    -0.1370      0.007    -19.172      0.000      -0.151      -0.123\n",
      "ar.S.L12                  0.2246      0.039      5.809      0.000       0.149       0.300\n",
      "ar.S.L24                  0.2348      0.006     40.559      0.000       0.223       0.246\n",
      "ar.S.L36                  0.0080      0.012      0.650      0.516      -0.016       0.032\n",
      "ar.S.L48                  0.1468      0.006     24.901      0.000       0.135       0.158\n",
      "ma.S.L12                 -0.1646      0.039     -4.271      0.000      -0.240      -0.089\n",
      "sigma2                    1.2172      0.005    226.001      0.000       1.207       1.228\n",
      "===================================================================================\n",
      "Ljung-Box (L1) (Q):                  90.25   Jarque-Bera (JB):             71489.27\n",
      "Prob(Q):                              0.00   Prob(JB):                         0.00\n",
      "Heteroskedasticity (H):               0.94   Skew:                            -0.57\n",
      "Prob(H) (two-sided):                  0.01   Kurtosis:                        11.35\n",
      "===================================================================================\n",
      "\n",
      "Warnings:\n",
      "[1] Covariance matrix calculated using the outer product of gradients (complex-step).\n"
     ]
    }
   ],
   "source": [
    "best_order = sarimax_results.sort_values('RMSE').iloc[0]['order(p, 0, q)(P, 0, Q, 12)']\n",
    "print(\"=========================================\")\n",
    "print(f\"Best order: SARIMA({best_order[0]}, 0, {best_order[1]})({best_order[2]}, 0, {best_order[3]})_[12]\")\n",
    "print(\"=========================================\\n\")\n",
    "\n",
    "final_model = SARIMAX(\n",
    "    endog=train_endo, \n",
    "    exog=train_exo,\n",
    "    order=(best_order[0], 0, best_order[1]),\n",
    "    seasonal_order=(best_order[2], 0, best_order[3], 12),\n",
    "    enforce_stationarity=False,\n",
    "    enforce_invertibility=False,\n",
    "    simple_differencing=False\n",
    ").fit(disp=False)\n",
    "\n",
    "print(final_model.summary())"
   ]
  },
  {
   "cell_type": "code",
   "execution_count": 29,
   "metadata": {},
   "outputs": [
    {
     "data": {
      "image/png": "[encoded data removed]",
      "text/plain": [
       "<Figure size 1300x1000 with 4 Axes>"
      ]
     },
     "metadata": {},
     "output_type": "display_data"
    }
   ],
   "source": [
    "final_model.plot_diagnostics(figsize=(13, 10));"
   ]
  },
  {
   "cell_type": "code",
   "execution_count": 30,
   "metadata": {},
   "outputs": [],
   "source": [
    "from statsmodels.stats.diagnostic import acorr_ljungbox"
   ]
  },
  {
   "cell_type": "code",
   "execution_count": 31,
   "metadata": {},
   "outputs": [
    {
     "data": {
      "text/html": [
       "<div>\n",
       "<style scoped>\n",
       "    .dataframe tbody tr th:only-of-type {\n",
       "        vertical-align: middle;\n",
       "    }\n",
       "\n",
       "    .dataframe tbody tr th {\n",
       "        vertical-align: top;\n",
       "    }\n",
       "\n",
       "    .dataframe thead th {\n",
       "        text-align: right;\n",
       "    }\n",
       "</style>\n",
       "<table border=\"1\" class=\"dataframe\">\n",
       "  <thead>\n",
       "    <tr style=\"text-align: right;\">\n",
       "      <th></th>\n",
       "      <th>lb_stat</th>\n",
       "      <th>lb_pvalue</th>\n",
       "    </tr>\n",
       "  </thead>\n",
       "  <tbody>\n",
       "    <tr>\n",
       "      <th>1</th>\n",
       "      <td>89.696612</td>\n",
       "      <td>2.776301e-21</td>\n",
       "    </tr>\n",
       "    <tr>\n",
       "      <th>2</th>\n",
       "      <td>176.694385</td>\n",
       "      <td>4.278601e-39</td>\n",
       "    </tr>\n",
       "    <tr>\n",
       "      <th>3</th>\n",
       "      <td>179.072747</td>\n",
       "      <td>1.398644e-38</td>\n",
       "    </tr>\n",
       "    <tr>\n",
       "      <th>4</th>\n",
       "      <td>179.124071</td>\n",
       "      <td>1.149869e-37</td>\n",
       "    </tr>\n",
       "    <tr>\n",
       "      <th>5</th>\n",
       "      <td>179.192785</td>\n",
       "      <td>7.958496e-37</td>\n",
       "    </tr>\n",
       "  </tbody>\n",
       "</table>\n",
       "</div>"
      ],
      "text/plain": [
       "      lb_stat     lb_pvalue\n",
       "1   89.696612  2.776301e-21\n",
       "2  176.694385  4.278601e-39\n",
       "3  179.072747  1.398644e-38\n",
       "4  179.124071  1.149869e-37\n",
       "5  179.192785  7.958496e-37"
      ]
     },
     "execution_count": 31,
     "metadata": {},
     "output_type": "execute_result"
    }
   ],
   "source": [
    "lb = acorr_ljungbox(final_model.resid, np.arange(1, 6, 1))\n",
    "lb"
   ]
  }
 ],
 "metadata": {
  "kernelspec": {
   "display_name": ".venv",
   "language": "python",
   "name": "python3"
  },
  "language_info": {
   "codemirror_mode": {
    "name": "ipython",
    "version": 3
   },
   "file_extension": ".py",
   "mimetype": "text/x-python",
   "name": "python",
   "nbconvert_exporter": "python",
   "pygments_lexer": "ipython3",
   "version": "3.10.10"
  }
 },
 "nbformat": 4,
 "nbformat_minor": 2
}
